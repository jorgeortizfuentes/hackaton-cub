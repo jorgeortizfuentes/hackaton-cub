{
 "cells": [
  {
   "cell_type": "code",
   "execution_count": 1,
   "metadata": {},
   "outputs": [
    {
     "data": {
      "application/vnd.jupyter.widget-view+json": {
       "model_id": "a3c7e99ea5224c8e8897f996d7a1afc8",
       "version_major": 2,
       "version_minor": 0
      },
      "text/plain": [
       "Pandas Apply:   0%|          | 0/11788 [00:00<?, ?it/s]"
      ]
     },
     "metadata": {},
     "output_type": "display_data"
    }
   ],
   "source": [
    "import pandas as pd\n",
    "import swifter\n",
    "\n",
    "info = \"info_CUB.csv\"\n",
    "df = pd.read_csv(info, sep=\";\")\n",
    "\n",
    "def read_text(path):\n",
    "    with open(path, \"r\") as f:\n",
    "        text = f.read()\n",
    "    return text\n",
    "\n",
    "df[\"text\"] = df[\"text\"].swifter.apply(read_text)\n",
    "\n",
    "label2id = {k: v for v, k in enumerate(df[\"label\"].unique())}\n",
    "id2label = {v: k for k, v in label2id.items()}\n",
    "df[\"label\"] = df[\"label\"].map(label2id)\n",
    "\n",
    "columns = [\"image\", \"text\", \"label\"]\n",
    "data_train = df[df[\"train\"] == 1][columns]\n",
    "data_test = df[df[\"train\"] == 0][columns]"
   ]
  },
  {
   "cell_type": "code",
   "execution_count": 2,
   "metadata": {},
   "outputs": [
    {
     "name": "stderr",
     "output_type": "stream",
     "text": [
      "2022-11-25 01:28:39.798133: W tensorflow/stream_executor/platform/default/dso_loader.cc:64] Could not load dynamic library 'libcudart.so.11.0'; dlerror: libcudart.so.11.0: cannot open shared object file: No such file or directory\n",
      "2022-11-25 01:28:39.798159: I tensorflow/stream_executor/cuda/cudart_stub.cc:29] Ignore above cudart dlerror if you do not have a GPU set up on your machine.\n",
      "Some weights of the model checkpoint at texts_model were not used when initializing MPNetModel: ['classifier.out_proj.bias', 'classifier.out_proj.weight', 'classifier.dense.weight', 'classifier.dense.bias']\n",
      "- This IS expected if you are initializing MPNetModel from the checkpoint of a model trained on another task or with another architecture (e.g. initializing a BertForSequenceClassification model from a BertForPreTraining model).\n",
      "- This IS NOT expected if you are initializing MPNetModel from the checkpoint of a model that you expect to be exactly identical (initializing a BertForSequenceClassification model from a BertForSequenceClassification model).\n",
      "Some weights of MPNetModel were not initialized from the model checkpoint at texts_model and are newly initialized: ['mpnet.pooler.dense.weight', 'mpnet.pooler.dense.bias']\n",
      "You should probably TRAIN this model on a down-stream task to be able to use it for predictions and inference.\n",
      "/home/jlortiz/anaconda3/envs/py310/lib/python3.10/site-packages/torch/functional.py:504: UserWarning: torch.meshgrid: in an upcoming release, it will be required to pass the indexing argument. (Triggered internally at ../aten/src/ATen/native/TensorShape.cpp:3190.)\n",
      "  return _VF.meshgrid(tensors, **kwargs)  # type: ignore[attr-defined]\n",
      "Some weights of the model checkpoint at images_model were not used when initializing SwinModel: ['classifier.weight', 'classifier.bias']\n",
      "- This IS expected if you are initializing SwinModel from the checkpoint of a model trained on another task or with another architecture (e.g. initializing a BertForSequenceClassification model from a BertForPreTraining model).\n",
      "- This IS NOT expected if you are initializing SwinModel from the checkpoint of a model that you expect to be exactly identical (initializing a BertForSequenceClassification model from a BertForSequenceClassification model).\n"
     ]
    }
   ],
   "source": [
    "# Get text from the model\n",
    "from transformers import AutoModel, AutoTokenizer, AutoFeatureExtractor\n",
    "from PIL import Image\n",
    "\n",
    "# Load models gpu 0\n",
    "model_nlp = AutoModel.from_pretrained(\"texts_model\")\n",
    "tokenizer_nlp = AutoTokenizer.from_pretrained(\"texts_model\")\n",
    "\n",
    "# Get images from the model\n",
    "feature_extractor_img = AutoFeatureExtractor.from_pretrained(\"images_model\")\n",
    "model_img = AutoModel.from_pretrained(\"images_model\")\n",
    "\n",
    "\n"
   ]
  },
  {
   "cell_type": "code",
   "execution_count": 3,
   "metadata": {},
   "outputs": [],
   "source": [
    "import numpy as np\n",
    "def get_image_vector(image, model=model_img, feature_extractor=feature_extractor_img):\n",
    "    # Get last layer of the model\n",
    "    image = Image.open(image)\n",
    "    inputs = feature_extractor(images=image, return_tensors=\"pt\")\n",
    "    outputs = model(**inputs)\n",
    "    embeddings = outputs.pooler_output.detach().numpy()\n",
    "    return embeddings\n",
    "\n",
    "\n",
    "def get_text_vector(text, model=model_nlp, tokenizer=tokenizer_nlp):\n",
    "    #return np.random.rand(100)\n",
    "    inputs = tokenizer_nlp(text, return_tensors=\"pt\")\n",
    "    outputs = model_nlp(**inputs)\n",
    "    embeddings = outputs.pooler_output.detach().numpy()\n",
    "    return embeddings\n",
    "\n",
    "data_train = data_train.sample(100)\n",
    "data_train[\"v_text\"] = data_train[\"text\"].apply(get_text_vector)\n",
    "data_train[\"v_image\"] = data_train[\"image\"].apply(get_image_vector)\n",
    "\n",
    "# def get_data_vector(image,text):\n",
    "#     try:\n",
    "#         image_v = get_image_vector(image)\n",
    "#         text_v = get_text_vector(text)\n",
    "#         # Join two torch.Tensor in one\n",
    "#         v =  np.concatenate((image_v, text_v), axis=1)\n",
    "#         # Tranpose to get the right shape\n",
    "#         return v\n",
    "#     except:\n",
    "#         return np.nan\n",
    "\n",
    "# data_train[\"vector\"], da = data_train.apply(lambda x: get_data_vector(x[\"image\"], x[\"text\"]), axis=1)\n",
    "# data_test[\"vector\"] = data_test.apply(lambda x: get_data_vector(x[\"image\"], x[\"text\"]), axis=1)\n",
    "\n",
    "data_train.to_pickle(\"vectors_swin_sbert/data_train.pkl\")\n",
    "data_test.to_pickle(\"vectors_swin_sbert/data_test.pkl\")"
   ]
  },
  {
   "cell_type": "code",
   "execution_count": 31,
   "metadata": {},
   "outputs": [
    {
     "name": "stdout",
     "output_type": "stream",
     "text": [
      "(768, 1)\n",
      "(768, 1)\n"
     ]
    }
   ],
   "source": [
    "# Join two vectors in one\n",
    "print(data_train[\"v_image\"][2920].T.shape)\n",
    "print(data_train[\"v_text\"][2920].T.shape)"
   ]
  },
  {
   "cell_type": "code",
   "execution_count": 32,
   "metadata": {},
   "outputs": [],
   "source": [
    "data_train[\"vector\"] = data_train.apply(lambda x: np.concatenate((x[\"v_image\"].T, x[\"v_text\"].T), axis=1), axis=1)"
   ]
  },
  {
   "cell_type": "code",
   "execution_count": 2,
   "metadata": {},
   "outputs": [],
   "source": [
    "import pandas as pd \n",
    "data_train = pd.read_pickle(\"vectors_swin_sbert/data_train.pkl\")\n",
    "data_test = pd.read_pickle(\"vectors_swin_sbert/data_test.pkl\")\n",
    "\n",
    "data_train = data_train.dropna().reset_index(drop=True)\n",
    "data_test = data_test.dropna().reset_index(drop=True)"
   ]
  },
  {
   "cell_type": "code",
   "execution_count": 3,
   "metadata": {},
   "outputs": [],
   "source": [
    "# Convert vector to a list of numbers\n",
    "\n",
    "\n",
    "data_train[\"vector\"] = data_train[\"vector\"].apply(lambda x: x.tolist()[0])\n",
    "data_test[\"vector\"] = data_test[\"vector\"].apply(lambda x: x.tolist()[0])"
   ]
  },
  {
   "cell_type": "code",
   "execution_count": 7,
   "metadata": {},
   "outputs": [],
   "source": [
    "# MLP sklearn model with 4 hidden layers\n",
    "from sklearn.neural_network import MLPClassifier\n",
    "from sklearn.metrics import accuracy_score\n",
    "\n",
    "X_train = data_train[\"vector\"].tolist()\n",
    "y_train = data_train[\"label\"].tolist()\n",
    "\n",
    "X_test = data_test[\"vector\"].tolist()\n",
    "y_test = data_test[\"label\"].tolist()\n",
    "\n",
    "\n"
   ]
  },
  {
   "cell_type": "code",
   "execution_count": 21,
   "metadata": {},
   "outputs": [
    {
     "name": "stdout",
     "output_type": "stream",
     "text": [
      "Fitting 2 folds for each of 24 candidates, totalling 48 fits\n",
      "[CV 1/2; 1/24] START activation=tanh, alpha=0.05, hidden_layer_sizes=(1000, 300), learning_rate=adaptive, solver=adam\n",
      "[CV 2/2; 1/24] START activation=tanh, alpha=0.05, hidden_layer_sizes=(1000, 300), learning_rate=adaptive, solver=adam\n",
      "[CV 1/2; 2/24] START activation=tanh, alpha=0.05, hidden_layer_sizes=(1000, 300), learning_rate=adaptive, solver=sgd\n",
      "[CV 2/2; 2/24] START activation=tanh, alpha=0.05, hidden_layer_sizes=(1000, 300), learning_rate=adaptive, solver=sgd\n",
      "[CV 2/2; 1/24] END activation=tanh, alpha=0.05, hidden_layer_sizes=(1000, 300), learning_rate=adaptive, solver=adam;, score=0.954 total time=  28.5s\n",
      "[CV 1/2; 3/24] START activation=tanh, alpha=0.05, hidden_layer_sizes=(1000, 800, 500), learning_rate=adaptive, solver=adam\n"
     ]
    },
    {
     "name": "stderr",
     "output_type": "stream",
     "text": [
      "/home/jlortiz/anaconda3/envs/py310/lib/python3.10/site-packages/sklearn/neural_network/_multilayer_perceptron.py:702: ConvergenceWarning: Stochastic Optimizer: Maximum iterations (20) reached and the optimization hasn't converged yet.\n",
      "  warnings.warn(\n"
     ]
    },
    {
     "name": "stdout",
     "output_type": "stream",
     "text": [
      "[CV 1/2; 2/24] END activation=tanh, alpha=0.05, hidden_layer_sizes=(1000, 300), learning_rate=adaptive, solver=sgd;, score=0.835 total time=  38.6s\n",
      "[CV 1/2; 1/24] END activation=tanh, alpha=0.05, hidden_layer_sizes=(1000, 300), learning_rate=adaptive, solver=adam;, score=0.960 total time=  39.0s\n"
     ]
    },
    {
     "name": "stderr",
     "output_type": "stream",
     "text": [
      "/home/jlortiz/anaconda3/envs/py310/lib/python3.10/site-packages/sklearn/neural_network/_multilayer_perceptron.py:702: ConvergenceWarning: Stochastic Optimizer: Maximum iterations (20) reached and the optimization hasn't converged yet.\n",
      "  warnings.warn(\n"
     ]
    },
    {
     "name": "stdout",
     "output_type": "stream",
     "text": [
      "[CV 2/2; 3/24] START activation=tanh, alpha=0.05, hidden_layer_sizes=(1000, 800, 500), learning_rate=adaptive, solver=adam\n",
      "[CV 2/2; 2/24] END activation=tanh, alpha=0.05, hidden_layer_sizes=(1000, 300), learning_rate=adaptive, solver=sgd;, score=0.846 total time=  39.0s\n",
      "[CV 1/2; 4/24] START activation=tanh, alpha=0.05, hidden_layer_sizes=(1000, 800, 500), learning_rate=adaptive, solver=sgd\n",
      "[CV 2/2; 4/24] START activation=tanh, alpha=0.05, hidden_layer_sizes=(1000, 800, 500), learning_rate=adaptive, solver=sgd\n",
      "[CV 1/2; 3/24] END activation=tanh, alpha=0.05, hidden_layer_sizes=(1000, 800, 500), learning_rate=adaptive, solver=adam;, score=0.961 total time=  56.3s\n",
      "[CV 1/2; 5/24] START activation=tanh, alpha=0.05, hidden_layer_sizes=(1000, 500), learning_rate=adaptive, solver=adam\n",
      "[CV 2/2; 3/24] END activation=tanh, alpha=0.05, hidden_layer_sizes=(1000, 800, 500), learning_rate=adaptive, solver=adam;, score=0.963 total time=  55.4s\n"
     ]
    },
    {
     "name": "stderr",
     "output_type": "stream",
     "text": [
      "/home/jlortiz/anaconda3/envs/py310/lib/python3.10/site-packages/sklearn/neural_network/_multilayer_perceptron.py:702: ConvergenceWarning: Stochastic Optimizer: Maximum iterations (20) reached and the optimization hasn't converged yet.\n",
      "  warnings.warn(\n"
     ]
    },
    {
     "name": "stdout",
     "output_type": "stream",
     "text": [
      "[CV 2/2; 5/24] START activation=tanh, alpha=0.05, hidden_layer_sizes=(1000, 500), learning_rate=adaptive, solver=adam\n",
      "[CV 1/2; 4/24] END activation=tanh, alpha=0.05, hidden_layer_sizes=(1000, 800, 500), learning_rate=adaptive, solver=sgd;, score=0.889 total time=  56.9s\n"
     ]
    },
    {
     "name": "stderr",
     "output_type": "stream",
     "text": [
      "/home/jlortiz/anaconda3/envs/py310/lib/python3.10/site-packages/sklearn/neural_network/_multilayer_perceptron.py:702: ConvergenceWarning: Stochastic Optimizer: Maximum iterations (20) reached and the optimization hasn't converged yet.\n",
      "  warnings.warn(\n"
     ]
    },
    {
     "name": "stdout",
     "output_type": "stream",
     "text": [
      "[CV 1/2; 6/24] START activation=tanh, alpha=0.05, hidden_layer_sizes=(1000, 500), learning_rate=adaptive, solver=sgd\n",
      "[CV 2/2; 4/24] END activation=tanh, alpha=0.05, hidden_layer_sizes=(1000, 800, 500), learning_rate=adaptive, solver=sgd;, score=0.888 total time=  57.7s\n",
      "[CV 2/2; 6/24] START activation=tanh, alpha=0.05, hidden_layer_sizes=(1000, 500), learning_rate=adaptive, solver=sgd\n",
      "[CV 1/2; 5/24] END activation=tanh, alpha=0.05, hidden_layer_sizes=(1000, 500), learning_rate=adaptive, solver=adam;, score=0.961 total time=  32.8s\n",
      "[CV 1/2; 7/24] START activation=tanh, alpha=0.01, hidden_layer_sizes=(1000, 300), learning_rate=adaptive, solver=adam\n"
     ]
    },
    {
     "name": "stderr",
     "output_type": "stream",
     "text": [
      "/home/jlortiz/anaconda3/envs/py310/lib/python3.10/site-packages/sklearn/neural_network/_multilayer_perceptron.py:702: ConvergenceWarning: Stochastic Optimizer: Maximum iterations (20) reached and the optimization hasn't converged yet.\n",
      "  warnings.warn(\n"
     ]
    },
    {
     "name": "stdout",
     "output_type": "stream",
     "text": [
      "[CV 2/2; 5/24] END activation=tanh, alpha=0.05, hidden_layer_sizes=(1000, 500), learning_rate=adaptive, solver=adam;, score=0.965 total time=  39.1s\n",
      "[CV 2/2; 6/24] END activation=tanh, alpha=0.05, hidden_layer_sizes=(1000, 500), learning_rate=adaptive, solver=sgd;, score=0.888 total time=  36.5s\n",
      "[CV 2/2; 7/24] START activation=tanh, alpha=0.01, hidden_layer_sizes=(1000, 300), learning_rate=adaptive, solver=adam\n"
     ]
    },
    {
     "name": "stderr",
     "output_type": "stream",
     "text": [
      "/home/jlortiz/anaconda3/envs/py310/lib/python3.10/site-packages/sklearn/neural_network/_multilayer_perceptron.py:702: ConvergenceWarning: Stochastic Optimizer: Maximum iterations (20) reached and the optimization hasn't converged yet.\n",
      "  warnings.warn(\n"
     ]
    },
    {
     "name": "stdout",
     "output_type": "stream",
     "text": [
      "[CV 1/2; 8/24] START activation=tanh, alpha=0.01, hidden_layer_sizes=(1000, 300), learning_rate=adaptive, solver=sgd\n",
      "[CV 1/2; 6/24] END activation=tanh, alpha=0.05, hidden_layer_sizes=(1000, 500), learning_rate=adaptive, solver=sgd;, score=0.874 total time=  39.7s\n",
      "[CV 2/2; 8/24] START activation=tanh, alpha=0.01, hidden_layer_sizes=(1000, 300), learning_rate=adaptive, solver=sgd\n",
      "[CV 1/2; 7/24] END activation=tanh, alpha=0.01, hidden_layer_sizes=(1000, 300), learning_rate=adaptive, solver=adam;, score=0.961 total time=  32.6s\n",
      "[CV 1/2; 9/24] START activation=tanh, alpha=0.01, hidden_layer_sizes=(1000, 800, 500), learning_rate=adaptive, solver=adam\n",
      "[CV 2/2; 7/24] END activation=tanh, alpha=0.01, hidden_layer_sizes=(1000, 300), learning_rate=adaptive, solver=adam;, score=0.960 total time=  33.8s\n",
      "[CV 2/2; 9/24] START activation=tanh, alpha=0.01, hidden_layer_sizes=(1000, 800, 500), learning_rate=adaptive, solver=adam\n"
     ]
    },
    {
     "name": "stderr",
     "output_type": "stream",
     "text": [
      "/home/jlortiz/anaconda3/envs/py310/lib/python3.10/site-packages/sklearn/neural_network/_multilayer_perceptron.py:702: ConvergenceWarning: Stochastic Optimizer: Maximum iterations (20) reached and the optimization hasn't converged yet.\n",
      "  warnings.warn(\n"
     ]
    },
    {
     "name": "stdout",
     "output_type": "stream",
     "text": [
      "[CV 1/2; 8/24] END activation=tanh, alpha=0.01, hidden_layer_sizes=(1000, 300), learning_rate=adaptive, solver=sgd;, score=0.835 total time=  35.6s\n",
      "[CV 1/2; 10/24] START activation=tanh, alpha=0.01, hidden_layer_sizes=(1000, 800, 500), learning_rate=adaptive, solver=sgd\n"
     ]
    },
    {
     "name": "stderr",
     "output_type": "stream",
     "text": [
      "/home/jlortiz/anaconda3/envs/py310/lib/python3.10/site-packages/sklearn/neural_network/_multilayer_perceptron.py:702: ConvergenceWarning: Stochastic Optimizer: Maximum iterations (20) reached and the optimization hasn't converged yet.\n",
      "  warnings.warn(\n"
     ]
    },
    {
     "name": "stdout",
     "output_type": "stream",
     "text": [
      "[CV 2/2; 8/24] END activation=tanh, alpha=0.01, hidden_layer_sizes=(1000, 300), learning_rate=adaptive, solver=sgd;, score=0.846 total time=  36.9s\n",
      "[CV 2/2; 10/24] START activation=tanh, alpha=0.01, hidden_layer_sizes=(1000, 800, 500), learning_rate=adaptive, solver=sgd\n",
      "[CV 1/2; 9/24] END activation=tanh, alpha=0.01, hidden_layer_sizes=(1000, 800, 500), learning_rate=adaptive, solver=adam;, score=0.962 total time=  48.2s\n",
      "[CV 1/2; 11/24] START activation=tanh, alpha=0.01, hidden_layer_sizes=(1000, 500), learning_rate=adaptive, solver=adam\n",
      "[CV 2/2; 9/24] END activation=tanh, alpha=0.01, hidden_layer_sizes=(1000, 800, 500), learning_rate=adaptive, solver=adam;, score=0.963 total time=  48.0s\n",
      "[CV 2/2; 11/24] START activation=tanh, alpha=0.01, hidden_layer_sizes=(1000, 500), learning_rate=adaptive, solver=adam\n"
     ]
    },
    {
     "name": "stderr",
     "output_type": "stream",
     "text": [
      "/home/jlortiz/anaconda3/envs/py310/lib/python3.10/site-packages/sklearn/neural_network/_multilayer_perceptron.py:702: ConvergenceWarning: Stochastic Optimizer: Maximum iterations (20) reached and the optimization hasn't converged yet.\n",
      "  warnings.warn(\n"
     ]
    },
    {
     "name": "stdout",
     "output_type": "stream",
     "text": [
      "[CV 1/2; 10/24] END activation=tanh, alpha=0.01, hidden_layer_sizes=(1000, 800, 500), learning_rate=adaptive, solver=sgd;, score=0.889 total time=  52.6s\n",
      "[CV 1/2; 12/24] START activation=tanh, alpha=0.01, hidden_layer_sizes=(1000, 500), learning_rate=adaptive, solver=sgd\n"
     ]
    },
    {
     "name": "stderr",
     "output_type": "stream",
     "text": [
      "/home/jlortiz/anaconda3/envs/py310/lib/python3.10/site-packages/sklearn/neural_network/_multilayer_perceptron.py:702: ConvergenceWarning: Stochastic Optimizer: Maximum iterations (20) reached and the optimization hasn't converged yet.\n",
      "  warnings.warn(\n"
     ]
    },
    {
     "name": "stdout",
     "output_type": "stream",
     "text": [
      "[CV 2/2; 10/24] END activation=tanh, alpha=0.01, hidden_layer_sizes=(1000, 800, 500), learning_rate=adaptive, solver=sgd;, score=0.889 total time=  54.2s\n",
      "[CV 2/2; 12/24] START activation=tanh, alpha=0.01, hidden_layer_sizes=(1000, 500), learning_rate=adaptive, solver=sgd\n",
      "[CV 1/2; 11/24] END activation=tanh, alpha=0.01, hidden_layer_sizes=(1000, 500), learning_rate=adaptive, solver=adam;, score=0.961 total time=  34.1s\n",
      "[CV 1/2; 13/24] START activation=relu, alpha=0.05, hidden_layer_sizes=(1000, 300), learning_rate=adaptive, solver=adam\n",
      "[CV 2/2; 11/24] END activation=tanh, alpha=0.01, hidden_layer_sizes=(1000, 500), learning_rate=adaptive, solver=adam;, score=0.965 total time=  40.1s\n",
      "[CV 2/2; 13/24] START activation=relu, alpha=0.05, hidden_layer_sizes=(1000, 300), learning_rate=adaptive, solver=adam\n"
     ]
    },
    {
     "name": "stderr",
     "output_type": "stream",
     "text": [
      "/home/jlortiz/anaconda3/envs/py310/lib/python3.10/site-packages/sklearn/neural_network/_multilayer_perceptron.py:702: ConvergenceWarning: Stochastic Optimizer: Maximum iterations (20) reached and the optimization hasn't converged yet.\n",
      "  warnings.warn(\n"
     ]
    },
    {
     "name": "stdout",
     "output_type": "stream",
     "text": [
      "[CV 1/2; 12/24] END activation=tanh, alpha=0.01, hidden_layer_sizes=(1000, 500), learning_rate=adaptive, solver=sgd;, score=0.874 total time=  40.5s\n",
      "[CV 1/2; 14/24] START activation=relu, alpha=0.05, hidden_layer_sizes=(1000, 300), learning_rate=adaptive, solver=sgd\n"
     ]
    },
    {
     "name": "stderr",
     "output_type": "stream",
     "text": [
      "/home/jlortiz/anaconda3/envs/py310/lib/python3.10/site-packages/sklearn/neural_network/_multilayer_perceptron.py:702: ConvergenceWarning: Stochastic Optimizer: Maximum iterations (20) reached and the optimization hasn't converged yet.\n",
      "  warnings.warn(\n"
     ]
    },
    {
     "name": "stdout",
     "output_type": "stream",
     "text": [
      "[CV 2/2; 12/24] END activation=tanh, alpha=0.01, hidden_layer_sizes=(1000, 500), learning_rate=adaptive, solver=sgd;, score=0.888 total time=  41.6s\n",
      "[CV 1/2; 13/24] END activation=relu, alpha=0.05, hidden_layer_sizes=(1000, 300), learning_rate=adaptive, solver=adam;, score=0.951 total time=  36.2s\n",
      "[CV 2/2; 14/24] START activation=relu, alpha=0.05, hidden_layer_sizes=(1000, 300), learning_rate=adaptive, solver=sgd\n",
      "[CV 1/2; 15/24] START activation=relu, alpha=0.05, hidden_layer_sizes=(1000, 800, 500), learning_rate=adaptive, solver=adam\n",
      "[CV 2/2; 13/24] END activation=relu, alpha=0.05, hidden_layer_sizes=(1000, 300), learning_rate=adaptive, solver=adam;, score=0.955 total time=  31.3s\n",
      "[CV 2/2; 15/24] START activation=relu, alpha=0.05, hidden_layer_sizes=(1000, 800, 500), learning_rate=adaptive, solver=adam\n"
     ]
    },
    {
     "name": "stderr",
     "output_type": "stream",
     "text": [
      "/home/jlortiz/anaconda3/envs/py310/lib/python3.10/site-packages/sklearn/neural_network/_multilayer_perceptron.py:702: ConvergenceWarning: Stochastic Optimizer: Maximum iterations (20) reached and the optimization hasn't converged yet.\n",
      "  warnings.warn(\n"
     ]
    },
    {
     "name": "stdout",
     "output_type": "stream",
     "text": [
      "[CV 1/2; 14/24] END activation=relu, alpha=0.05, hidden_layer_sizes=(1000, 300), learning_rate=adaptive, solver=sgd;, score=0.896 total time=  35.4s\n",
      "[CV 1/2; 16/24] START activation=relu, alpha=0.05, hidden_layer_sizes=(1000, 800, 500), learning_rate=adaptive, solver=sgd\n"
     ]
    },
    {
     "name": "stderr",
     "output_type": "stream",
     "text": [
      "/home/jlortiz/anaconda3/envs/py310/lib/python3.10/site-packages/sklearn/neural_network/_multilayer_perceptron.py:702: ConvergenceWarning: Stochastic Optimizer: Maximum iterations (20) reached and the optimization hasn't converged yet.\n",
      "  warnings.warn(\n"
     ]
    },
    {
     "name": "stdout",
     "output_type": "stream",
     "text": [
      "[CV 2/2; 14/24] END activation=relu, alpha=0.05, hidden_layer_sizes=(1000, 300), learning_rate=adaptive, solver=sgd;, score=0.885 total time=  33.9s\n",
      "[CV 2/2; 16/24] START activation=relu, alpha=0.05, hidden_layer_sizes=(1000, 800, 500), learning_rate=adaptive, solver=sgd\n"
     ]
    },
    {
     "name": "stderr",
     "output_type": "stream",
     "text": [
      "/home/jlortiz/anaconda3/envs/py310/lib/python3.10/site-packages/sklearn/neural_network/_multilayer_perceptron.py:702: ConvergenceWarning: Stochastic Optimizer: Maximum iterations (20) reached and the optimization hasn't converged yet.\n",
      "  warnings.warn(\n"
     ]
    },
    {
     "name": "stdout",
     "output_type": "stream",
     "text": [
      "[CV 1/2; 15/24] END activation=relu, alpha=0.05, hidden_layer_sizes=(1000, 800, 500), learning_rate=adaptive, solver=adam;, score=0.947 total time= 1.2min\n",
      "[CV 1/2; 17/24] START activation=relu, alpha=0.05, hidden_layer_sizes=(1000, 500), learning_rate=adaptive, solver=adam\n",
      "[CV 2/2; 15/24] END activation=relu, alpha=0.05, hidden_layer_sizes=(1000, 800, 500), learning_rate=adaptive, solver=adam;, score=0.949 total time=  59.6s\n",
      "[CV 2/2; 17/24] START activation=relu, alpha=0.05, hidden_layer_sizes=(1000, 500), learning_rate=adaptive, solver=adam\n"
     ]
    },
    {
     "name": "stderr",
     "output_type": "stream",
     "text": [
      "/home/jlortiz/anaconda3/envs/py310/lib/python3.10/site-packages/sklearn/neural_network/_multilayer_perceptron.py:702: ConvergenceWarning: Stochastic Optimizer: Maximum iterations (20) reached and the optimization hasn't converged yet.\n",
      "  warnings.warn(\n"
     ]
    },
    {
     "name": "stdout",
     "output_type": "stream",
     "text": [
      "[CV 1/2; 16/24] END activation=relu, alpha=0.05, hidden_layer_sizes=(1000, 800, 500), learning_rate=adaptive, solver=sgd;, score=0.901 total time=  54.2s\n",
      "[CV 1/2; 18/24] START activation=relu, alpha=0.05, hidden_layer_sizes=(1000, 500), learning_rate=adaptive, solver=sgd\n"
     ]
    },
    {
     "name": "stderr",
     "output_type": "stream",
     "text": [
      "/home/jlortiz/anaconda3/envs/py310/lib/python3.10/site-packages/sklearn/neural_network/_multilayer_perceptron.py:702: ConvergenceWarning: Stochastic Optimizer: Maximum iterations (20) reached and the optimization hasn't converged yet.\n",
      "  warnings.warn(\n"
     ]
    },
    {
     "name": "stdout",
     "output_type": "stream",
     "text": [
      "[CV 2/2; 16/24] END activation=relu, alpha=0.05, hidden_layer_sizes=(1000, 800, 500), learning_rate=adaptive, solver=sgd;, score=0.900 total time=  56.1s\n",
      "[CV 2/2; 18/24] START activation=relu, alpha=0.05, hidden_layer_sizes=(1000, 500), learning_rate=adaptive, solver=sgd\n",
      "[CV 2/2; 17/24] END activation=relu, alpha=0.05, hidden_layer_sizes=(1000, 500), learning_rate=adaptive, solver=adam;, score=0.956 total time=  42.7s\n"
     ]
    },
    {
     "name": "stderr",
     "output_type": "stream",
     "text": [
      "/home/jlortiz/anaconda3/envs/py310/lib/python3.10/site-packages/sklearn/neural_network/_multilayer_perceptron.py:702: ConvergenceWarning: Stochastic Optimizer: Maximum iterations (20) reached and the optimization hasn't converged yet.\n",
      "  warnings.warn(\n"
     ]
    },
    {
     "name": "stdout",
     "output_type": "stream",
     "text": [
      "[CV 1/2; 19/24] START activation=relu, alpha=0.01, hidden_layer_sizes=(1000, 300), learning_rate=adaptive, solver=adam\n",
      "[CV 1/2; 17/24] END activation=relu, alpha=0.05, hidden_layer_sizes=(1000, 500), learning_rate=adaptive, solver=adam;, score=0.948 total time=  48.6s\n",
      "[CV 2/2; 19/24] START activation=relu, alpha=0.01, hidden_layer_sizes=(1000, 300), learning_rate=adaptive, solver=adam\n"
     ]
    },
    {
     "name": "stderr",
     "output_type": "stream",
     "text": [
      "/home/jlortiz/anaconda3/envs/py310/lib/python3.10/site-packages/sklearn/neural_network/_multilayer_perceptron.py:702: ConvergenceWarning: Stochastic Optimizer: Maximum iterations (20) reached and the optimization hasn't converged yet.\n",
      "  warnings.warn(\n"
     ]
    },
    {
     "name": "stdout",
     "output_type": "stream",
     "text": [
      "[CV 1/2; 18/24] END activation=relu, alpha=0.05, hidden_layer_sizes=(1000, 500), learning_rate=adaptive, solver=sgd;, score=0.898 total time=  40.4s\n",
      "[CV 1/2; 20/24] START activation=relu, alpha=0.01, hidden_layer_sizes=(1000, 300), learning_rate=adaptive, solver=sgd\n"
     ]
    },
    {
     "name": "stderr",
     "output_type": "stream",
     "text": [
      "/home/jlortiz/anaconda3/envs/py310/lib/python3.10/site-packages/sklearn/neural_network/_multilayer_perceptron.py:702: ConvergenceWarning: Stochastic Optimizer: Maximum iterations (20) reached and the optimization hasn't converged yet.\n",
      "  warnings.warn(\n"
     ]
    },
    {
     "name": "stdout",
     "output_type": "stream",
     "text": [
      "[CV 2/2; 18/24] END activation=relu, alpha=0.05, hidden_layer_sizes=(1000, 500), learning_rate=adaptive, solver=sgd;, score=0.905 total time=  40.4s\n",
      "[CV 2/2; 20/24] START activation=relu, alpha=0.01, hidden_layer_sizes=(1000, 300), learning_rate=adaptive, solver=sgd\n"
     ]
    },
    {
     "name": "stderr",
     "output_type": "stream",
     "text": [
      "/home/jlortiz/anaconda3/envs/py310/lib/python3.10/site-packages/sklearn/neural_network/_multilayer_perceptron.py:702: ConvergenceWarning: Stochastic Optimizer: Maximum iterations (20) reached and the optimization hasn't converged yet.\n",
      "  warnings.warn(\n"
     ]
    },
    {
     "name": "stdout",
     "output_type": "stream",
     "text": [
      "[CV 1/2; 20/24] END activation=relu, alpha=0.01, hidden_layer_sizes=(1000, 300), learning_rate=adaptive, solver=sgd;, score=0.896 total time=  36.3s\n",
      "[CV 1/2; 21/24] START activation=relu, alpha=0.01, hidden_layer_sizes=(1000, 800, 500), learning_rate=adaptive, solver=adam\n",
      "[CV 1/2; 19/24] END activation=relu, alpha=0.01, hidden_layer_sizes=(1000, 300), learning_rate=adaptive, solver=adam;, score=0.953 total time=  42.0s\n",
      "[CV 2/2; 21/24] START activation=relu, alpha=0.01, hidden_layer_sizes=(1000, 800, 500), learning_rate=adaptive, solver=adam\n",
      "[CV 2/2; 19/24] END activation=relu, alpha=0.01, hidden_layer_sizes=(1000, 300), learning_rate=adaptive, solver=adam;, score=0.960 total time=  42.6s\n",
      "[CV 1/2; 22/24] START activation=relu, alpha=0.01, hidden_layer_sizes=(1000, 800, 500), learning_rate=adaptive, solver=sgd\n"
     ]
    },
    {
     "name": "stderr",
     "output_type": "stream",
     "text": [
      "/home/jlortiz/anaconda3/envs/py310/lib/python3.10/site-packages/sklearn/neural_network/_multilayer_perceptron.py:702: ConvergenceWarning: Stochastic Optimizer: Maximum iterations (20) reached and the optimization hasn't converged yet.\n",
      "  warnings.warn(\n"
     ]
    },
    {
     "name": "stdout",
     "output_type": "stream",
     "text": [
      "[CV 2/2; 20/24] END activation=relu, alpha=0.01, hidden_layer_sizes=(1000, 300), learning_rate=adaptive, solver=sgd;, score=0.884 total time=  35.8s\n",
      "[CV 2/2; 22/24] START activation=relu, alpha=0.01, hidden_layer_sizes=(1000, 800, 500), learning_rate=adaptive, solver=sgd\n"
     ]
    },
    {
     "name": "stderr",
     "output_type": "stream",
     "text": [
      "/home/jlortiz/anaconda3/envs/py310/lib/python3.10/site-packages/sklearn/neural_network/_multilayer_perceptron.py:702: ConvergenceWarning: Stochastic Optimizer: Maximum iterations (20) reached and the optimization hasn't converged yet.\n",
      "  warnings.warn(\n"
     ]
    },
    {
     "name": "stdout",
     "output_type": "stream",
     "text": [
      "[CV 1/2; 22/24] END activation=relu, alpha=0.01, hidden_layer_sizes=(1000, 800, 500), learning_rate=adaptive, solver=sgd;, score=0.900 total time=  54.9s\n",
      "[CV 2/2; 21/24] END activation=relu, alpha=0.01, hidden_layer_sizes=(1000, 800, 500), learning_rate=adaptive, solver=adam;, score=0.945 total time=  57.9s\n",
      "[CV 1/2; 23/24] START activation=relu, alpha=0.01, hidden_layer_sizes=(1000, 500), learning_rate=adaptive, solver=adam\n",
      "[CV 2/2; 23/24] START activation=relu, alpha=0.01, hidden_layer_sizes=(1000, 500), learning_rate=adaptive, solver=adam\n"
     ]
    },
    {
     "name": "stderr",
     "output_type": "stream",
     "text": [
      "/home/jlortiz/anaconda3/envs/py310/lib/python3.10/site-packages/sklearn/neural_network/_multilayer_perceptron.py:702: ConvergenceWarning: Stochastic Optimizer: Maximum iterations (20) reached and the optimization hasn't converged yet.\n",
      "  warnings.warn(\n"
     ]
    },
    {
     "name": "stdout",
     "output_type": "stream",
     "text": [
      "[CV 2/2; 22/24] END activation=relu, alpha=0.01, hidden_layer_sizes=(1000, 800, 500), learning_rate=adaptive, solver=sgd;, score=0.900 total time=  57.2s\n",
      "[CV 1/2; 24/24] START activation=relu, alpha=0.01, hidden_layer_sizes=(1000, 500), learning_rate=adaptive, solver=sgd\n",
      "[CV 1/2; 21/24] END activation=relu, alpha=0.01, hidden_layer_sizes=(1000, 800, 500), learning_rate=adaptive, solver=adam;, score=0.946 total time= 1.2min\n",
      "[CV 2/2; 24/24] START activation=relu, alpha=0.01, hidden_layer_sizes=(1000, 500), learning_rate=adaptive, solver=sgd\n"
     ]
    },
    {
     "name": "stderr",
     "output_type": "stream",
     "text": [
      "/home/jlortiz/anaconda3/envs/py310/lib/python3.10/site-packages/sklearn/neural_network/_multilayer_perceptron.py:702: ConvergenceWarning: Stochastic Optimizer: Maximum iterations (20) reached and the optimization hasn't converged yet.\n",
      "  warnings.warn(\n"
     ]
    },
    {
     "name": "stdout",
     "output_type": "stream",
     "text": [
      "[CV 1/2; 24/24] END activation=relu, alpha=0.01, hidden_layer_sizes=(1000, 500), learning_rate=adaptive, solver=sgd;, score=0.898 total time=  41.1s\n",
      "[CV 2/2; 23/24] END activation=relu, alpha=0.01, hidden_layer_sizes=(1000, 500), learning_rate=adaptive, solver=adam;, score=0.955 total time=  44.7s\n"
     ]
    },
    {
     "name": "stderr",
     "output_type": "stream",
     "text": [
      "/home/jlortiz/anaconda3/envs/py310/lib/python3.10/site-packages/sklearn/neural_network/_multilayer_perceptron.py:702: ConvergenceWarning: Stochastic Optimizer: Maximum iterations (20) reached and the optimization hasn't converged yet.\n",
      "  warnings.warn(\n"
     ]
    },
    {
     "name": "stdout",
     "output_type": "stream",
     "text": [
      "[CV 1/2; 23/24] END activation=relu, alpha=0.01, hidden_layer_sizes=(1000, 500), learning_rate=adaptive, solver=adam;, score=0.947 total time=  48.5s\n"
     ]
    },
    {
     "name": "stderr",
     "output_type": "stream",
     "text": [
      "/home/jlortiz/anaconda3/envs/py310/lib/python3.10/site-packages/sklearn/neural_network/_multilayer_perceptron.py:702: ConvergenceWarning: Stochastic Optimizer: Maximum iterations (20) reached and the optimization hasn't converged yet.\n",
      "  warnings.warn(\n"
     ]
    },
    {
     "name": "stdout",
     "output_type": "stream",
     "text": [
      "[CV 2/2; 24/24] END activation=relu, alpha=0.01, hidden_layer_sizes=(1000, 500), learning_rate=adaptive, solver=sgd;, score=0.904 total time=  37.8s\n",
      "{'activation': 'tanh', 'alpha': 0.05, 'hidden_layer_sizes': (1000, 500), 'learning_rate': 'adaptive', 'solver': 'adam'}\n"
     ]
    }
   ],
   "source": [
    "# Grid search to find the best parameters for the model\n",
    "from sklearn.model_selection import GridSearchCV\n",
    "\n",
    "params = {\n",
    "    \"hidden_layer_sizes\": [(1000, 300), (1000, 800, 500),(1000, 500)],\n",
    "    \"activation\": [\"tanh\", \"relu\"],\n",
    "    \"solver\": [\"adam\", \"sgd\"],\n",
    "    \"alpha\": [0.05, 0.01],\n",
    "    \"learning_rate\": [\"adaptive\"],\n",
    "    \n",
    "}\n",
    "\n",
    "mlp = MLPClassifier(max_iter=20, random_state=42, verbose=False, early_stopping=True, validation_fraction=0.1)\n",
    "\n",
    "# Custom scorer    \n",
    "\n",
    "clf = GridSearchCV(mlp, params, n_jobs=4, verbose=10, cv=2, scoring=\"accuracy\")) \n",
    "clf.fit(X_train, y_train)\n",
    "\n",
    "print(clf.best_params_)"
   ]
  },
  {
   "cell_type": "code",
   "execution_count": 22,
   "metadata": {},
   "outputs": [
    {
     "name": "stdout",
     "output_type": "stream",
     "text": [
      "{'activation': 'tanh', 'alpha': 0.05, 'hidden_layer_sizes': (1000, 500), 'learning_rate': 'adaptive', 'solver': 'adam'}\n",
      "Accuracy:  0.8142734307824592\n"
     ]
    }
   ],
   "source": [
    "print(clf.best_params_)\n",
    "mlp = MLPClassifier(**clf.best_params_, max_iter=20, random_state=42, verbose=False, early_stopping=True, validation_fraction=0.1)\n",
    "mlp.fit(X_train, y_train)\n",
    "y_pred = mlp.predict(X_test)\n",
    "print(\"Accuracy: \", accuracy_score(y_test, y_pred))\n"
   ]
  }
 ],
 "metadata": {
  "kernelspec": {
   "display_name": "Python 3.10.4 ('py310')",
   "language": "python",
   "name": "python3"
  },
  "language_info": {
   "codemirror_mode": {
    "name": "ipython",
    "version": 3
   },
   "file_extension": ".py",
   "mimetype": "text/x-python",
   "name": "python",
   "nbconvert_exporter": "python",
   "pygments_lexer": "ipython3",
   "version": "3.10.4"
  },
  "orig_nbformat": 4,
  "vscode": {
   "interpreter": {
    "hash": "06a17ca31c7ab197e5e567cd8a7bcaec762c6e782ee9dbc439352425141fd3d5"
   }
  }
 },
 "nbformat": 4,
 "nbformat_minor": 2
}
