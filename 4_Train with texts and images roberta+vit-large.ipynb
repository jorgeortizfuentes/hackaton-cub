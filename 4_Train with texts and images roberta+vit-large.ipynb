{
 "cells": [
  {
   "cell_type": "code",
   "execution_count": 18,
   "metadata": {},
   "outputs": [
    {
     "data": {
      "application/vnd.jupyter.widget-view+json": {
       "model_id": "e1b6a29059fe4632a3616cb309e637d1",
       "version_major": 2,
       "version_minor": 0
      },
      "text/plain": [
       "Pandas Apply:   0%|          | 0/11788 [00:00<?, ?it/s]"
      ]
     },
     "metadata": {},
     "output_type": "display_data"
    }
   ],
   "source": [
    "import pandas as pd\n",
    "import swifter\n",
    "\n",
    "info = \"info_CUB.csv\"\n",
    "df = pd.read_csv(info, sep=\";\")\n",
    "\n",
    "def read_text(path):\n",
    "    with open(path, \"r\") as f:\n",
    "        text = f.read()\n",
    "    return text\n",
    "\n",
    "df[\"text\"] = df[\"text\"].swifter.apply(read_text)\n",
    "\n",
    "label2id = {k: v for v, k in enumerate(df[\"label\"].unique())}\n",
    "id2label = {v: k for k, v in label2id.items()}\n",
    "df[\"label\"] = df[\"label\"].map(label2id)\n",
    "\n",
    "columns = [\"image\", \"text\", \"label\"]\n",
    "data_train = df[df[\"train\"] == 1][columns]\n",
    "data_test = df[df[\"train\"] == 0][columns]"
   ]
  },
  {
   "cell_type": "code",
   "execution_count": 19,
   "metadata": {},
   "outputs": [
    {
     "name": "stderr",
     "output_type": "stream",
     "text": [
      "Some weights of the model checkpoint at roberta-base-finetuned-CUB were not used when initializing RobertaModel: ['classifier.dense.weight', 'classifier.out_proj.bias', 'classifier.out_proj.weight', 'classifier.dense.bias']\n",
      "- This IS expected if you are initializing RobertaModel from the checkpoint of a model trained on another task or with another architecture (e.g. initializing a BertForSequenceClassification model from a BertForPreTraining model).\n",
      "- This IS NOT expected if you are initializing RobertaModel from the checkpoint of a model that you expect to be exactly identical (initializing a BertForSequenceClassification model from a BertForSequenceClassification model).\n",
      "Some weights of RobertaModel were not initialized from the model checkpoint at roberta-base-finetuned-CUB and are newly initialized: ['roberta.pooler.dense.bias', 'roberta.pooler.dense.weight']\n",
      "You should probably TRAIN this model on a down-stream task to be able to use it for predictions and inference.\n",
      "Some weights of the model checkpoint at vit-large-patch32-384_finetuning were not used when initializing ViTModel: ['classifier.weight', 'classifier.bias']\n",
      "- This IS expected if you are initializing ViTModel from the checkpoint of a model trained on another task or with another architecture (e.g. initializing a BertForSequenceClassification model from a BertForPreTraining model).\n",
      "- This IS NOT expected if you are initializing ViTModel from the checkpoint of a model that you expect to be exactly identical (initializing a BertForSequenceClassification model from a BertForSequenceClassification model).\n",
      "Some weights of ViTModel were not initialized from the model checkpoint at vit-large-patch32-384_finetuning and are newly initialized: ['vit.pooler.dense.bias', 'vit.pooler.dense.weight']\n",
      "You should probably TRAIN this model on a down-stream task to be able to use it for predictions and inference.\n"
     ]
    }
   ],
   "source": [
    "# Get text from the model\n",
    "from transformers import AutoModel, AutoTokenizer, AutoFeatureExtractor\n",
    "from PIL import Image\n",
    "\n",
    "# Load models gpu 0\n",
    "model_nlp = AutoModel.from_pretrained(\"roberta-base-finetuned-CUB\")\n",
    "tokenizer_nlp = AutoTokenizer.from_pretrained(\"roberta-base-finetuned-CUB\")\n",
    "\n",
    "# Get images from the model\n",
    "feature_extractor_img = AutoFeatureExtractor.from_pretrained(\"vit-large-patch32-384_finetuning\")\n",
    "model_img = AutoModel.from_pretrained(\"vit-large-patch32-384_finetuning\")\n"
   ]
  },
  {
   "cell_type": "code",
   "execution_count": 20,
   "metadata": {},
   "outputs": [
    {
     "name": "stdout",
     "output_type": "stream",
     "text": [
      "Error with image <PIL.JpegImagePlugin.JpegImageFile image mode=L size=500x281 at 0x7FA504000100>\n",
      "Error with image <PIL.JpegImagePlugin.JpegImageFile image mode=L size=500x326 at 0x7FA504000EE0>\n",
      "Error with image <PIL.JpegImagePlugin.JpegImageFile image mode=L size=500x500 at 0x7FA504000EE0>\n",
      "Error with image <PIL.JpegImagePlugin.JpegImageFile image mode=L size=500x398 at 0x7FA504001390>\n",
      "Error with image <PIL.JpegImagePlugin.JpegImageFile image mode=L size=500x333 at 0x7FA504001030>\n",
      "Error with image <PIL.JpegImagePlugin.JpegImageFile image mode=L size=484x500 at 0x7FA5040014E0>\n",
      "Error with image <PIL.JpegImagePlugin.JpegImageFile image mode=L size=500x375 at 0x7FA504001090>\n",
      "Error with image <PIL.JpegImagePlugin.JpegImageFile image mode=L size=485x500 at 0x7FA504001120>\n"
     ]
    }
   ],
   "source": [
    "import numpy as np\n",
    "def get_image_vector(image, model=model_img, feature_extractor=feature_extractor_img):\n",
    "    try:\n",
    "        # Get last layer of the model\n",
    "        image = Image.open(image)\n",
    "        inputs = feature_extractor(images=image, return_tensors=\"pt\")\n",
    "        outputs = model(**inputs)\n",
    "        embeddings = outputs.pooler_output.detach().numpy()\n",
    "        return embeddings\n",
    "    except:\n",
    "        print(\"Error with image\", image)\n",
    "        return np.nan\n",
    "\n",
    "\n",
    "def get_text_vector(text, model=model_nlp, tokenizer=tokenizer_nlp):\n",
    "    #return np.random.rand(100)\n",
    "    inputs = tokenizer_nlp(text, return_tensors=\"pt\")\n",
    "    outputs = model_nlp(**inputs)\n",
    "    embeddings = outputs.pooler_output.detach().numpy()\n",
    "    return embeddings\n",
    "\n",
    "data_train[\"v_text\"] = data_train[\"text\"].apply(get_text_vector)\n",
    "data_train[\"v_image\"] = data_train[\"image\"].apply(get_image_vector)\n",
    "\n",
    "data_test[\"v_text\"] = data_test[\"text\"].apply(get_text_vector)\n",
    "data_test[\"v_image\"] = data_test[\"image\"].apply(get_image_vector)\n",
    "# def get_data_vector(image,text):\n",
    "#     try:\n",
    "#         image_v = get_image_vector(image)\n",
    "#         text_v = get_text_vector(text)\n",
    "#         # Join two torch.Tensor in one\n",
    "#         v =  np.concatenate((image_v, text_v), axis=1)\n",
    "#         # Tranpose to get the right shape\n",
    "#         return v\n",
    "#     except:\n",
    "#         return np.nan\n",
    "\n"
   ]
  },
  {
   "cell_type": "code",
   "execution_count": 21,
   "metadata": {},
   "outputs": [],
   "source": [
    "data_train.to_pickle(\"vectors_roberta_vit/data_train.pkl\")\n",
    "data_test.to_pickle(\"vectors_roberta_vit/data_test.pkl\")"
   ]
  },
  {
   "cell_type": "code",
   "execution_count": 22,
   "metadata": {},
   "outputs": [],
   "source": [
    "import pandas as pd \n",
    "data_train = pd.read_pickle(\"vectors_roberta_vit/data_train.pkl\")\n",
    "data_test = pd.read_pickle(\"vectors_roberta_vit/data_test.pkl\")\n",
    "\n",
    "data_train = data_train.dropna().reset_index(drop=True)\n",
    "data_test = data_test.dropna().reset_index(drop=True)"
   ]
  },
  {
   "cell_type": "code",
   "execution_count": 23,
   "metadata": {},
   "outputs": [
    {
     "name": "stdout",
     "output_type": "stream",
     "text": [
      "(5965, 5)\n",
      "(5815, 5)\n"
     ]
    }
   ],
   "source": [
    "print(data_train.shape)\n",
    "print(data_test.shape)"
   ]
  },
  {
   "cell_type": "code",
   "execution_count": 24,
   "metadata": {},
   "outputs": [],
   "source": [
    "# data_train[\"vector\"] = data_train.apply(lambda x: get_data_vector(x[\"image\"], x[\"text\"]), axis=1)\n",
    "# data_test[\"vector\"] = data_test.apply(lambda x: get_data_vector(x[\"image\"], x[\"text\"]), axis=1)\n"
   ]
  },
  {
   "cell_type": "code",
   "execution_count": 25,
   "metadata": {},
   "outputs": [
    {
     "data": {
      "text/plain": [
       "(1, 768)    5965\n",
       "Name: v_text, dtype: int64"
      ]
     },
     "execution_count": 25,
     "metadata": {},
     "output_type": "execute_result"
    }
   ],
   "source": [
    "data_train[\"v_image\"].apply(lambda x: x.shape).value_counts()\n",
    "data_train[\"v_text\"].apply(lambda x: x.shape).value_counts()"
   ]
  },
  {
   "cell_type": "code",
   "execution_count": null,
   "metadata": {},
   "outputs": [],
   "source": []
  },
  {
   "cell_type": "code",
   "execution_count": 26,
   "metadata": {},
   "outputs": [],
   "source": [
    "data_train[\"vector\"] = data_train.apply(lambda x: np.concatenate((x[\"v_image\"], x[\"v_text\"]), axis=1), axis=1)\n",
    "data_test[\"vector\"] = data_test.apply(lambda x: np.concatenate((x[\"v_image\"], x[\"v_text\"]), axis=1), axis=1)"
   ]
  },
  {
   "cell_type": "code",
   "execution_count": null,
   "metadata": {},
   "outputs": [],
   "source": []
  },
  {
   "cell_type": "code",
   "execution_count": 27,
   "metadata": {},
   "outputs": [
    {
     "data": {
      "text/html": [
       "<div>\n",
       "<style scoped>\n",
       "    .dataframe tbody tr th:only-of-type {\n",
       "        vertical-align: middle;\n",
       "    }\n",
       "\n",
       "    .dataframe tbody tr th {\n",
       "        vertical-align: top;\n",
       "    }\n",
       "\n",
       "    .dataframe thead th {\n",
       "        text-align: right;\n",
       "    }\n",
       "</style>\n",
       "<table border=\"1\" class=\"dataframe\">\n",
       "  <thead>\n",
       "    <tr style=\"text-align: right;\">\n",
       "      <th></th>\n",
       "      <th>image</th>\n",
       "      <th>text</th>\n",
       "      <th>label</th>\n",
       "      <th>v_text</th>\n",
       "      <th>v_image</th>\n",
       "      <th>vector</th>\n",
       "    </tr>\n",
       "  </thead>\n",
       "  <tbody>\n",
       "    <tr>\n",
       "      <th>0</th>\n",
       "      <td>CUB/images/001.Black_footed_Albatross/Black_Fo...</td>\n",
       "      <td>a large brown bird with a long and sharply tur...</td>\n",
       "      <td>0</td>\n",
       "      <td>[[-0.4494482, -0.14032204, -0.051117722, -0.37...</td>\n",
       "      <td>[[0.24670544, 0.016368864, -0.35779393, -0.405...</td>\n",
       "      <td>[[0.24670544, 0.016368864, -0.35779393, -0.405...</td>\n",
       "    </tr>\n",
       "    <tr>\n",
       "      <th>1</th>\n",
       "      <td>CUB/images/003.Sooty_Albatross/Sooty_Albatross...</td>\n",
       "      <td>a large sized bird with brown tones in the win...</td>\n",
       "      <td>1</td>\n",
       "      <td>[[-0.49942705, -0.45266795, -0.07493907, -0.45...</td>\n",
       "      <td>[[-0.77163243, 0.14098488, 0.5532929, 0.250189...</td>\n",
       "      <td>[[-0.77163243, 0.14098488, 0.5532929, 0.250189...</td>\n",
       "    </tr>\n",
       "    <tr>\n",
       "      <th>2</th>\n",
       "      <td>CUB/images/004.Groove_billed_Ani/Groove_Billed...</td>\n",
       "      <td>the bird has a very tiny black bill as well as...</td>\n",
       "      <td>2</td>\n",
       "      <td>[[0.53590196, 0.07426909, 0.30264488, -0.65106...</td>\n",
       "      <td>[[-0.24587081, 0.5262232, -0.60334283, -0.6706...</td>\n",
       "      <td>[[-0.24587081, 0.5262232, -0.60334283, -0.6706...</td>\n",
       "    </tr>\n",
       "    <tr>\n",
       "      <th>3</th>\n",
       "      <td>CUB/images/005.Crested_Auklet/Crested_Auklet_0...</td>\n",
       "      <td>this bird is almost all light gray with a whit...</td>\n",
       "      <td>3</td>\n",
       "      <td>[[-0.03630162, -0.0089132665, 0.18595152, -0.1...</td>\n",
       "      <td>[[-0.62728, -0.4452654, -0.7264618, 0.33525065...</td>\n",
       "      <td>[[-0.62728, -0.4452654, -0.7264618, 0.33525065...</td>\n",
       "    </tr>\n",
       "    <tr>\n",
       "      <th>4</th>\n",
       "      <td>CUB/images/007.Parakeet_Auklet/Parakeet_Auklet...</td>\n",
       "      <td>the bird has a white eyering and a white breas...</td>\n",
       "      <td>5</td>\n",
       "      <td>[[0.03143559, 0.49735644, 0.3504617, 0.0174330...</td>\n",
       "      <td>[[0.6704706, 0.12495472, -0.5906075, -0.305272...</td>\n",
       "      <td>[[0.6704706, 0.12495472, -0.5906075, -0.305272...</td>\n",
       "    </tr>\n",
       "    <tr>\n",
       "      <th>...</th>\n",
       "      <td>...</td>\n",
       "      <td>...</td>\n",
       "      <td>...</td>\n",
       "      <td>...</td>\n",
       "      <td>...</td>\n",
       "      <td>...</td>\n",
       "    </tr>\n",
       "    <tr>\n",
       "      <th>5960</th>\n",
       "      <td>CUB/images/118.House_Sparrow/House_Sparrow_014...</td>\n",
       "      <td>small roundish bird, with an off white abdomen...</td>\n",
       "      <td>72</td>\n",
       "      <td>[[0.40644965, -0.22581306, 0.034566283, 0.0558...</td>\n",
       "      <td>[[-0.67271984, -0.50511837, -0.07102936, 0.348...</td>\n",
       "      <td>[[-0.67271984, -0.50511837, -0.07102936, 0.348...</td>\n",
       "    </tr>\n",
       "    <tr>\n",
       "      <th>5961</th>\n",
       "      <td>CUB/images/197.Marsh_Wren/Marsh_Wren_0145_1881...</td>\n",
       "      <td>this is a bird with a white belly and a long o...</td>\n",
       "      <td>153</td>\n",
       "      <td>[[0.23964927, -0.3913797, -0.1839547, 0.113428...</td>\n",
       "      <td>[[0.33722794, 0.030788623, -0.22617392, 0.0269...</td>\n",
       "      <td>[[0.33722794, 0.030788623, -0.22617392, 0.0269...</td>\n",
       "    </tr>\n",
       "    <tr>\n",
       "      <th>5962</th>\n",
       "      <td>CUB/images/062.Herring_Gull/Herring_Gull_0143_...</td>\n",
       "      <td>the bird is white with black tail feathers tha...</td>\n",
       "      <td>35</td>\n",
       "      <td>[[0.3628128, -0.38673288, -0.10301982, -0.1289...</td>\n",
       "      <td>[[0.16473852, -0.5832121, -0.5755116, -0.50059...</td>\n",
       "      <td>[[0.16473852, -0.5832121, -0.5755116, -0.50059...</td>\n",
       "    </tr>\n",
       "    <tr>\n",
       "      <th>5963</th>\n",
       "      <td>CUB/images/066.Western_Gull/Western_Gull_0143_...</td>\n",
       "      <td>this bird has a white head with yellow bill, i...</td>\n",
       "      <td>163</td>\n",
       "      <td>[[0.11574447, -0.50187784, 0.7015084, 0.200828...</td>\n",
       "      <td>[[0.175866, -0.7046889, 0.064728186, -0.074174...</td>\n",
       "      <td>[[0.175866, -0.7046889, 0.064728186, -0.074174...</td>\n",
       "    </tr>\n",
       "    <tr>\n",
       "      <th>5964</th>\n",
       "      <td>CUB/images/118.House_Sparrow/House_Sparrow_014...</td>\n",
       "      <td>this small bird has a grey crown, black beak a...</td>\n",
       "      <td>72</td>\n",
       "      <td>[[-0.008685936, 0.1719332, -0.3660396, 0.42419...</td>\n",
       "      <td>[[-0.719231, -0.34768274, -0.000988647, 0.3826...</td>\n",
       "      <td>[[-0.719231, -0.34768274, -0.000988647, 0.3826...</td>\n",
       "    </tr>\n",
       "  </tbody>\n",
       "</table>\n",
       "<p>5965 rows × 6 columns</p>\n",
       "</div>"
      ],
      "text/plain": [
       "                                                  image  \\\n",
       "0     CUB/images/001.Black_footed_Albatross/Black_Fo...   \n",
       "1     CUB/images/003.Sooty_Albatross/Sooty_Albatross...   \n",
       "2     CUB/images/004.Groove_billed_Ani/Groove_Billed...   \n",
       "3     CUB/images/005.Crested_Auklet/Crested_Auklet_0...   \n",
       "4     CUB/images/007.Parakeet_Auklet/Parakeet_Auklet...   \n",
       "...                                                 ...   \n",
       "5960  CUB/images/118.House_Sparrow/House_Sparrow_014...   \n",
       "5961  CUB/images/197.Marsh_Wren/Marsh_Wren_0145_1881...   \n",
       "5962  CUB/images/062.Herring_Gull/Herring_Gull_0143_...   \n",
       "5963  CUB/images/066.Western_Gull/Western_Gull_0143_...   \n",
       "5964  CUB/images/118.House_Sparrow/House_Sparrow_014...   \n",
       "\n",
       "                                                   text  label  \\\n",
       "0     a large brown bird with a long and sharply tur...      0   \n",
       "1     a large sized bird with brown tones in the win...      1   \n",
       "2     the bird has a very tiny black bill as well as...      2   \n",
       "3     this bird is almost all light gray with a whit...      3   \n",
       "4     the bird has a white eyering and a white breas...      5   \n",
       "...                                                 ...    ...   \n",
       "5960  small roundish bird, with an off white abdomen...     72   \n",
       "5961  this is a bird with a white belly and a long o...    153   \n",
       "5962  the bird is white with black tail feathers tha...     35   \n",
       "5963  this bird has a white head with yellow bill, i...    163   \n",
       "5964  this small bird has a grey crown, black beak a...     72   \n",
       "\n",
       "                                                 v_text  \\\n",
       "0     [[-0.4494482, -0.14032204, -0.051117722, -0.37...   \n",
       "1     [[-0.49942705, -0.45266795, -0.07493907, -0.45...   \n",
       "2     [[0.53590196, 0.07426909, 0.30264488, -0.65106...   \n",
       "3     [[-0.03630162, -0.0089132665, 0.18595152, -0.1...   \n",
       "4     [[0.03143559, 0.49735644, 0.3504617, 0.0174330...   \n",
       "...                                                 ...   \n",
       "5960  [[0.40644965, -0.22581306, 0.034566283, 0.0558...   \n",
       "5961  [[0.23964927, -0.3913797, -0.1839547, 0.113428...   \n",
       "5962  [[0.3628128, -0.38673288, -0.10301982, -0.1289...   \n",
       "5963  [[0.11574447, -0.50187784, 0.7015084, 0.200828...   \n",
       "5964  [[-0.008685936, 0.1719332, -0.3660396, 0.42419...   \n",
       "\n",
       "                                                v_image  \\\n",
       "0     [[0.24670544, 0.016368864, -0.35779393, -0.405...   \n",
       "1     [[-0.77163243, 0.14098488, 0.5532929, 0.250189...   \n",
       "2     [[-0.24587081, 0.5262232, -0.60334283, -0.6706...   \n",
       "3     [[-0.62728, -0.4452654, -0.7264618, 0.33525065...   \n",
       "4     [[0.6704706, 0.12495472, -0.5906075, -0.305272...   \n",
       "...                                                 ...   \n",
       "5960  [[-0.67271984, -0.50511837, -0.07102936, 0.348...   \n",
       "5961  [[0.33722794, 0.030788623, -0.22617392, 0.0269...   \n",
       "5962  [[0.16473852, -0.5832121, -0.5755116, -0.50059...   \n",
       "5963  [[0.175866, -0.7046889, 0.064728186, -0.074174...   \n",
       "5964  [[-0.719231, -0.34768274, -0.000988647, 0.3826...   \n",
       "\n",
       "                                                 vector  \n",
       "0     [[0.24670544, 0.016368864, -0.35779393, -0.405...  \n",
       "1     [[-0.77163243, 0.14098488, 0.5532929, 0.250189...  \n",
       "2     [[-0.24587081, 0.5262232, -0.60334283, -0.6706...  \n",
       "3     [[-0.62728, -0.4452654, -0.7264618, 0.33525065...  \n",
       "4     [[0.6704706, 0.12495472, -0.5906075, -0.305272...  \n",
       "...                                                 ...  \n",
       "5960  [[-0.67271984, -0.50511837, -0.07102936, 0.348...  \n",
       "5961  [[0.33722794, 0.030788623, -0.22617392, 0.0269...  \n",
       "5962  [[0.16473852, -0.5832121, -0.5755116, -0.50059...  \n",
       "5963  [[0.175866, -0.7046889, 0.064728186, -0.074174...  \n",
       "5964  [[-0.719231, -0.34768274, -0.000988647, 0.3826...  \n",
       "\n",
       "[5965 rows x 6 columns]"
      ]
     },
     "execution_count": 27,
     "metadata": {},
     "output_type": "execute_result"
    }
   ],
   "source": [
    "data_train"
   ]
  },
  {
   "cell_type": "code",
   "execution_count": 28,
   "metadata": {},
   "outputs": [],
   "source": [
    "# Convert vector to a list of numbers\n",
    "\n",
    "\n",
    "data_train[\"vector\"] = data_train[\"vector\"].apply(lambda x: x.tolist()[0])\n",
    "data_test[\"vector\"] = data_test[\"vector\"].apply(lambda x: x.tolist()[0])"
   ]
  },
  {
   "cell_type": "code",
   "execution_count": 29,
   "metadata": {},
   "outputs": [],
   "source": [
    "# MLP sklearn model with 4 hidden layers\n",
    "from sklearn.neural_network import MLPClassifier\n",
    "from sklearn.metrics import accuracy_score\n",
    "\n",
    "X_train = data_train[\"vector\"].tolist()\n",
    "y_train = data_train[\"label\"].tolist()\n",
    "\n",
    "X_test = data_test[\"vector\"].tolist()\n",
    "y_test = data_test[\"label\"].tolist()\n",
    "\n",
    "\n"
   ]
  },
  {
   "cell_type": "code",
   "execution_count": 37,
   "metadata": {},
   "outputs": [
    {
     "name": "stdout",
     "output_type": "stream",
     "text": [
      "Fitting 2 folds for each of 48 candidates, totalling 96 fits\n",
      "huggingface/tokenizers: The current process just got forked, after parallelism has already been used. Disabling parallelism to avoid deadlocks...\n",
      "To disable this warning, you can either:\n",
      "\t- Avoid using `tokenizers` before the fork if possible\n",
      "\t- Explicitly set the environment variable TOKENIZERS_PARALLELISM=(true | false)\n",
      "huggingface/tokenizers: The current process just got forked, after parallelism has already been used. Disabling parallelism to avoid deadlocks...\n",
      "To disable this warning, you can either:\n",
      "\t- Avoid using `tokenizers` before the fork if possible\n",
      "\t- Explicitly set the environment variable TOKENIZERS_PARALLELISM=(true | false)\n",
      "huggingface/tokenizers: The current process just got forked, after parallelism has already been used. Disabling parallelism to avoid deadlocks...\n",
      "To disable this warning, you can either:\n",
      "\t- Avoid using `tokenizers` before the fork if possible\n",
      "\t- Explicitly set the environment variable TOKENIZERS_PARALLELISM=(true | false)\n",
      "huggingface/tokenizers: The current process just got forked, after parallelism has already been used. Disabling parallelism to avoid deadlocks...\n",
      "To disable this warning, you can either:\n",
      "\t- Avoid using `tokenizers` before the fork if possible\n",
      "\t- Explicitly set the environment variable TOKENIZERS_PARALLELISM=(true | false)\n",
      "[CV 1/2; 1/48] START activation=tanh, alpha=0.05, hidden_layer_sizes=(1000, 600), learning_rate=adaptive, solver=adam\n",
      "[CV 2/2; 1/48] START activation=tanh, alpha=0.05, hidden_layer_sizes=(1000, 600), learning_rate=adaptive, solver=adam\n",
      "[CV 1/2; 2/48] START activation=tanh, alpha=0.05, hidden_layer_sizes=(1000, 600), learning_rate=adaptive, solver=sgd\n",
      "[CV 2/2; 2/48] START activation=tanh, alpha=0.05, hidden_layer_sizes=(1000, 600), learning_rate=adaptive, solver=sgd\n",
      "[CV 1/2; 1/48] END activation=tanh, alpha=0.05, hidden_layer_sizes=(1000, 600), learning_rate=adaptive, solver=adam;, score=0.973 total time=  36.8s\n",
      "[CV 1/2; 3/48] START activation=tanh, alpha=0.05, hidden_layer_sizes=(1000, 700), learning_rate=adaptive, solver=adam\n"
     ]
    },
    {
     "name": "stderr",
     "output_type": "stream",
     "text": [
      "/home/jlortiz/anaconda3/envs/py310/lib/python3.10/site-packages/sklearn/neural_network/_multilayer_perceptron.py:702: ConvergenceWarning: Stochastic Optimizer: Maximum iterations (20) reached and the optimization hasn't converged yet.\n",
      "  warnings.warn(\n"
     ]
    },
    {
     "name": "stdout",
     "output_type": "stream",
     "text": [
      "[CV 2/2; 2/48] END activation=tanh, alpha=0.05, hidden_layer_sizes=(1000, 600), learning_rate=adaptive, solver=sgd;, score=0.955 total time=  46.8s\n",
      "[CV 2/2; 3/48] START activation=tanh, alpha=0.05, hidden_layer_sizes=(1000, 700), learning_rate=adaptive, solver=adam\n"
     ]
    },
    {
     "name": "stderr",
     "output_type": "stream",
     "text": [
      "/home/jlortiz/anaconda3/envs/py310/lib/python3.10/site-packages/sklearn/neural_network/_multilayer_perceptron.py:702: ConvergenceWarning: Stochastic Optimizer: Maximum iterations (20) reached and the optimization hasn't converged yet.\n",
      "  warnings.warn(\n"
     ]
    },
    {
     "name": "stdout",
     "output_type": "stream",
     "text": [
      "[CV 1/2; 2/48] END activation=tanh, alpha=0.05, hidden_layer_sizes=(1000, 600), learning_rate=adaptive, solver=sgd;, score=0.961 total time=  50.0s\n",
      "[CV 1/2; 4/48] START activation=tanh, alpha=0.05, hidden_layer_sizes=(1000, 700), learning_rate=adaptive, solver=sgd\n",
      "[CV 2/2; 1/48] END activation=tanh, alpha=0.05, hidden_layer_sizes=(1000, 600), learning_rate=adaptive, solver=adam;, score=0.982 total time=  54.0s\n",
      "[CV 2/2; 4/48] START activation=tanh, alpha=0.05, hidden_layer_sizes=(1000, 700), learning_rate=adaptive, solver=sgd\n",
      "[CV 1/2; 3/48] END activation=tanh, alpha=0.05, hidden_layer_sizes=(1000, 700), learning_rate=adaptive, solver=adam;, score=0.984 total time=  45.4s\n",
      "[CV 1/2; 5/48] START activation=tanh, alpha=0.05, hidden_layer_sizes=(1000, 500), learning_rate=adaptive, solver=adam\n",
      "[CV 2/2; 3/48] END activation=tanh, alpha=0.05, hidden_layer_sizes=(1000, 700), learning_rate=adaptive, solver=adam;, score=0.981 total time=  51.7s\n",
      "[CV 2/2; 5/48] START activation=tanh, alpha=0.05, hidden_layer_sizes=(1000, 500), learning_rate=adaptive, solver=adam\n"
     ]
    },
    {
     "name": "stderr",
     "output_type": "stream",
     "text": [
      "/home/jlortiz/anaconda3/envs/py310/lib/python3.10/site-packages/sklearn/neural_network/_multilayer_perceptron.py:702: ConvergenceWarning: Stochastic Optimizer: Maximum iterations (20) reached and the optimization hasn't converged yet.\n",
      "  warnings.warn(\n",
      "/home/jlortiz/anaconda3/envs/py310/lib/python3.10/site-packages/sklearn/neural_network/_multilayer_perceptron.py:702: ConvergenceWarning: Stochastic Optimizer: Maximum iterations (20) reached and the optimization hasn't converged yet.\n",
      "  warnings.warn(\n"
     ]
    },
    {
     "name": "stdout",
     "output_type": "stream",
     "text": [
      "[CV 2/2; 4/48] END activation=tanh, alpha=0.05, hidden_layer_sizes=(1000, 700), learning_rate=adaptive, solver=sgd;, score=0.963 total time=  48.4s\n",
      "[CV 1/2; 4/48] END activation=tanh, alpha=0.05, hidden_layer_sizes=(1000, 700), learning_rate=adaptive, solver=sgd;, score=0.963 total time=  53.0s\n",
      "[CV 1/2; 6/48] START activation=tanh, alpha=0.05, hidden_layer_sizes=(1000, 500), learning_rate=adaptive, solver=sgd\n",
      "[CV 2/2; 6/48] START activation=tanh, alpha=0.05, hidden_layer_sizes=(1000, 500), learning_rate=adaptive, solver=sgd\n"
     ]
    },
    {
     "name": "stderr",
     "output_type": "stream",
     "text": [
      "/home/jlortiz/anaconda3/envs/py310/lib/python3.10/site-packages/sklearn/neural_network/_multilayer_perceptron.py:702: ConvergenceWarning: Stochastic Optimizer: Maximum iterations (20) reached and the optimization hasn't converged yet.\n",
      "  warnings.warn(\n"
     ]
    },
    {
     "name": "stdout",
     "output_type": "stream",
     "text": [
      "[CV 1/2; 5/48] END activation=tanh, alpha=0.05, hidden_layer_sizes=(1000, 500), learning_rate=adaptive, solver=adam;, score=0.984 total time=  57.3s\n",
      "[CV 1/2; 7/48] START activation=tanh, alpha=0.01, hidden_layer_sizes=(1000, 600), learning_rate=adaptive, solver=adam\n"
     ]
    },
    {
     "name": "stderr",
     "output_type": "stream",
     "text": [
      "/home/jlortiz/anaconda3/envs/py310/lib/python3.10/site-packages/sklearn/neural_network/_multilayer_perceptron.py:702: ConvergenceWarning: Stochastic Optimizer: Maximum iterations (20) reached and the optimization hasn't converged yet.\n",
      "  warnings.warn(\n"
     ]
    },
    {
     "name": "stdout",
     "output_type": "stream",
     "text": [
      "[CV 1/2; 6/48] END activation=tanh, alpha=0.05, hidden_layer_sizes=(1000, 500), learning_rate=adaptive, solver=sgd;, score=0.967 total time=  46.9s\n",
      "[CV 2/2; 7/48] START activation=tanh, alpha=0.01, hidden_layer_sizes=(1000, 600), learning_rate=adaptive, solver=adam\n",
      "[CV 2/2; 5/48] END activation=tanh, alpha=0.05, hidden_layer_sizes=(1000, 500), learning_rate=adaptive, solver=adam;, score=0.983 total time=  51.7s\n",
      "[CV 1/2; 8/48] START activation=tanh, alpha=0.01, hidden_layer_sizes=(1000, 600), learning_rate=adaptive, solver=sgd\n"
     ]
    },
    {
     "name": "stderr",
     "output_type": "stream",
     "text": [
      "/home/jlortiz/anaconda3/envs/py310/lib/python3.10/site-packages/sklearn/neural_network/_multilayer_perceptron.py:702: ConvergenceWarning: Stochastic Optimizer: Maximum iterations (20) reached and the optimization hasn't converged yet.\n",
      "  warnings.warn(\n"
     ]
    },
    {
     "name": "stdout",
     "output_type": "stream",
     "text": [
      "[CV 2/2; 6/48] END activation=tanh, alpha=0.05, hidden_layer_sizes=(1000, 500), learning_rate=adaptive, solver=sgd;, score=0.964 total time=  50.2s\n",
      "[CV 2/2; 8/48] START activation=tanh, alpha=0.01, hidden_layer_sizes=(1000, 600), learning_rate=adaptive, solver=sgd\n",
      "[CV 1/2; 7/48] END activation=tanh, alpha=0.01, hidden_layer_sizes=(1000, 600), learning_rate=adaptive, solver=adam;, score=0.973 total time=  36.5s\n",
      "[CV 1/2; 9/48] START activation=tanh, alpha=0.01, hidden_layer_sizes=(1000, 700), learning_rate=adaptive, solver=adam\n"
     ]
    },
    {
     "name": "stderr",
     "output_type": "stream",
     "text": [
      "/home/jlortiz/anaconda3/envs/py310/lib/python3.10/site-packages/sklearn/neural_network/_multilayer_perceptron.py:702: ConvergenceWarning: Stochastic Optimizer: Maximum iterations (20) reached and the optimization hasn't converged yet.\n",
      "  warnings.warn(\n"
     ]
    },
    {
     "name": "stdout",
     "output_type": "stream",
     "text": [
      "[CV 1/2; 8/48] END activation=tanh, alpha=0.01, hidden_layer_sizes=(1000, 600), learning_rate=adaptive, solver=sgd;, score=0.961 total time=  48.7s\n",
      "[CV 2/2; 9/48] START activation=tanh, alpha=0.01, hidden_layer_sizes=(1000, 700), learning_rate=adaptive, solver=adam\n",
      "[CV 2/2; 7/48] END activation=tanh, alpha=0.01, hidden_layer_sizes=(1000, 600), learning_rate=adaptive, solver=adam;, score=0.982 total time=  52.6s\n",
      "[CV 1/2; 10/48] START activation=tanh, alpha=0.01, hidden_layer_sizes=(1000, 700), learning_rate=adaptive, solver=sgd\n"
     ]
    },
    {
     "name": "stderr",
     "output_type": "stream",
     "text": [
      "/home/jlortiz/anaconda3/envs/py310/lib/python3.10/site-packages/sklearn/neural_network/_multilayer_perceptron.py:702: ConvergenceWarning: Stochastic Optimizer: Maximum iterations (20) reached and the optimization hasn't converged yet.\n",
      "  warnings.warn(\n"
     ]
    },
    {
     "name": "stdout",
     "output_type": "stream",
     "text": [
      "[CV 2/2; 8/48] END activation=tanh, alpha=0.01, hidden_layer_sizes=(1000, 600), learning_rate=adaptive, solver=sgd;, score=0.956 total time=  51.2s\n",
      "[CV 2/2; 10/48] START activation=tanh, alpha=0.01, hidden_layer_sizes=(1000, 700), learning_rate=adaptive, solver=sgd\n",
      "[CV 1/2; 9/48] END activation=tanh, alpha=0.01, hidden_layer_sizes=(1000, 700), learning_rate=adaptive, solver=adam;, score=0.984 total time=  47.2s\n",
      "[CV 1/2; 11/48] START activation=tanh, alpha=0.01, hidden_layer_sizes=(1000, 500), learning_rate=adaptive, solver=adam\n"
     ]
    },
    {
     "name": "stderr",
     "output_type": "stream",
     "text": [
      "/home/jlortiz/anaconda3/envs/py310/lib/python3.10/site-packages/sklearn/neural_network/_multilayer_perceptron.py:702: ConvergenceWarning: Stochastic Optimizer: Maximum iterations (20) reached and the optimization hasn't converged yet.\n",
      "  warnings.warn(\n",
      "/home/jlortiz/anaconda3/envs/py310/lib/python3.10/site-packages/sklearn/neural_network/_multilayer_perceptron.py:702: ConvergenceWarning: Stochastic Optimizer: Maximum iterations (20) reached and the optimization hasn't converged yet.\n",
      "  warnings.warn(\n"
     ]
    },
    {
     "name": "stdout",
     "output_type": "stream",
     "text": [
      "[CV 1/2; 10/48] END activation=tanh, alpha=0.01, hidden_layer_sizes=(1000, 700), learning_rate=adaptive, solver=sgd;, score=0.963 total time=  55.5s\n",
      "[CV 2/2; 10/48] END activation=tanh, alpha=0.01, hidden_layer_sizes=(1000, 700), learning_rate=adaptive, solver=sgd;, score=0.963 total time=  52.8s\n",
      "[CV 2/2; 11/48] START activation=tanh, alpha=0.01, hidden_layer_sizes=(1000, 500), learning_rate=adaptive, solver=adam\n",
      "[CV 1/2; 12/48] START activation=tanh, alpha=0.01, hidden_layer_sizes=(1000, 500), learning_rate=adaptive, solver=sgd\n"
     ]
    },
    {
     "name": "stderr",
     "output_type": "stream",
     "text": [
      "/home/jlortiz/anaconda3/envs/py310/lib/python3.10/site-packages/sklearn/neural_network/_multilayer_perceptron.py:702: ConvergenceWarning: Stochastic Optimizer: Maximum iterations (20) reached and the optimization hasn't converged yet.\n",
      "  warnings.warn(\n"
     ]
    },
    {
     "name": "stdout",
     "output_type": "stream",
     "text": [
      "[CV 2/2; 9/48] END activation=tanh, alpha=0.01, hidden_layer_sizes=(1000, 700), learning_rate=adaptive, solver=adam;, score=0.982 total time= 1.0min\n",
      "[CV 2/2; 12/48] START activation=tanh, alpha=0.01, hidden_layer_sizes=(1000, 500), learning_rate=adaptive, solver=sgd\n"
     ]
    },
    {
     "name": "stderr",
     "output_type": "stream",
     "text": [
      "/home/jlortiz/anaconda3/envs/py310/lib/python3.10/site-packages/sklearn/neural_network/_multilayer_perceptron.py:702: ConvergenceWarning: Stochastic Optimizer: Maximum iterations (20) reached and the optimization hasn't converged yet.\n",
      "  warnings.warn(\n"
     ]
    },
    {
     "name": "stdout",
     "output_type": "stream",
     "text": [
      "[CV 1/2; 11/48] END activation=tanh, alpha=0.01, hidden_layer_sizes=(1000, 500), learning_rate=adaptive, solver=adam;, score=0.984 total time=  55.8s\n",
      "[CV 1/2; 13/48] START activation=tanh, alpha=0.03, hidden_layer_sizes=(1000, 600), learning_rate=adaptive, solver=adam\n"
     ]
    },
    {
     "name": "stderr",
     "output_type": "stream",
     "text": [
      "/home/jlortiz/anaconda3/envs/py310/lib/python3.10/site-packages/sklearn/neural_network/_multilayer_perceptron.py:702: ConvergenceWarning: Stochastic Optimizer: Maximum iterations (20) reached and the optimization hasn't converged yet.\n",
      "  warnings.warn(\n"
     ]
    },
    {
     "name": "stdout",
     "output_type": "stream",
     "text": [
      "[CV 1/2; 12/48] END activation=tanh, alpha=0.01, hidden_layer_sizes=(1000, 500), learning_rate=adaptive, solver=sgd;, score=0.967 total time=  45.4s\n",
      "[CV 2/2; 13/48] START activation=tanh, alpha=0.03, hidden_layer_sizes=(1000, 600), learning_rate=adaptive, solver=adam\n"
     ]
    },
    {
     "name": "stderr",
     "output_type": "stream",
     "text": [
      "/home/jlortiz/anaconda3/envs/py310/lib/python3.10/site-packages/sklearn/neural_network/_multilayer_perceptron.py:702: ConvergenceWarning: Stochastic Optimizer: Maximum iterations (20) reached and the optimization hasn't converged yet.\n",
      "  warnings.warn(\n"
     ]
    },
    {
     "name": "stdout",
     "output_type": "stream",
     "text": [
      "[CV 2/2; 12/48] END activation=tanh, alpha=0.01, hidden_layer_sizes=(1000, 500), learning_rate=adaptive, solver=sgd;, score=0.964 total time=  44.6s\n",
      "[CV 1/2; 14/48] START activation=tanh, alpha=0.03, hidden_layer_sizes=(1000, 600), learning_rate=adaptive, solver=sgd\n"
     ]
    },
    {
     "name": "stderr",
     "output_type": "stream",
     "text": [
      "/home/jlortiz/anaconda3/envs/py310/lib/python3.10/site-packages/sklearn/neural_network/_multilayer_perceptron.py:702: ConvergenceWarning: Stochastic Optimizer: Maximum iterations (20) reached and the optimization hasn't converged yet.\n",
      "  warnings.warn(\n"
     ]
    },
    {
     "name": "stdout",
     "output_type": "stream",
     "text": [
      "[CV 2/2; 11/48] END activation=tanh, alpha=0.01, hidden_layer_sizes=(1000, 500), learning_rate=adaptive, solver=adam;, score=0.983 total time=  56.8s\n",
      "[CV 2/2; 14/48] START activation=tanh, alpha=0.03, hidden_layer_sizes=(1000, 600), learning_rate=adaptive, solver=sgd\n",
      "[CV 1/2; 13/48] END activation=tanh, alpha=0.03, hidden_layer_sizes=(1000, 600), learning_rate=adaptive, solver=adam;, score=0.973 total time=  36.7s\n",
      "[CV 1/2; 15/48] START activation=tanh, alpha=0.03, hidden_layer_sizes=(1000, 700), learning_rate=adaptive, solver=adam\n",
      "[CV 2/2; 13/48] END activation=tanh, alpha=0.03, hidden_layer_sizes=(1000, 600), learning_rate=adaptive, solver=adam;, score=0.982 total time=  51.2s\n"
     ]
    },
    {
     "name": "stderr",
     "output_type": "stream",
     "text": [
      "/home/jlortiz/anaconda3/envs/py310/lib/python3.10/site-packages/sklearn/neural_network/_multilayer_perceptron.py:702: ConvergenceWarning: Stochastic Optimizer: Maximum iterations (20) reached and the optimization hasn't converged yet.\n",
      "  warnings.warn(\n"
     ]
    },
    {
     "name": "stdout",
     "output_type": "stream",
     "text": [
      "[CV 2/2; 15/48] START activation=tanh, alpha=0.03, hidden_layer_sizes=(1000, 700), learning_rate=adaptive, solver=adam\n",
      "[CV 1/2; 14/48] END activation=tanh, alpha=0.03, hidden_layer_sizes=(1000, 600), learning_rate=adaptive, solver=sgd;, score=0.961 total time=  49.4s\n",
      "[CV 1/2; 16/48] START activation=tanh, alpha=0.03, hidden_layer_sizes=(1000, 700), learning_rate=adaptive, solver=sgd\n"
     ]
    },
    {
     "name": "stderr",
     "output_type": "stream",
     "text": [
      "/home/jlortiz/anaconda3/envs/py310/lib/python3.10/site-packages/sklearn/neural_network/_multilayer_perceptron.py:702: ConvergenceWarning: Stochastic Optimizer: Maximum iterations (20) reached and the optimization hasn't converged yet.\n",
      "  warnings.warn(\n"
     ]
    },
    {
     "name": "stdout",
     "output_type": "stream",
     "text": [
      "[CV 2/2; 14/48] END activation=tanh, alpha=0.03, hidden_layer_sizes=(1000, 600), learning_rate=adaptive, solver=sgd;, score=0.956 total time=  50.7s\n",
      "[CV 1/2; 15/48] END activation=tanh, alpha=0.03, hidden_layer_sizes=(1000, 700), learning_rate=adaptive, solver=adam;, score=0.985 total time=  48.7s\n",
      "[CV 2/2; 16/48] START activation=tanh, alpha=0.03, hidden_layer_sizes=(1000, 700), learning_rate=adaptive, solver=sgd\n",
      "[CV 1/2; 17/48] START activation=tanh, alpha=0.03, hidden_layer_sizes=(1000, 500), learning_rate=adaptive, solver=adam\n"
     ]
    },
    {
     "name": "stderr",
     "output_type": "stream",
     "text": [
      "/home/jlortiz/anaconda3/envs/py310/lib/python3.10/site-packages/sklearn/neural_network/_multilayer_perceptron.py:702: ConvergenceWarning: Stochastic Optimizer: Maximum iterations (20) reached and the optimization hasn't converged yet.\n",
      "  warnings.warn(\n"
     ]
    },
    {
     "name": "stdout",
     "output_type": "stream",
     "text": [
      "[CV 1/2; 16/48] END activation=tanh, alpha=0.03, hidden_layer_sizes=(1000, 700), learning_rate=adaptive, solver=sgd;, score=0.963 total time=  51.8s\n",
      "[CV 2/2; 17/48] START activation=tanh, alpha=0.03, hidden_layer_sizes=(1000, 500), learning_rate=adaptive, solver=adam\n"
     ]
    },
    {
     "name": "stderr",
     "output_type": "stream",
     "text": [
      "/home/jlortiz/anaconda3/envs/py310/lib/python3.10/site-packages/sklearn/neural_network/_multilayer_perceptron.py:702: ConvergenceWarning: Stochastic Optimizer: Maximum iterations (20) reached and the optimization hasn't converged yet.\n",
      "  warnings.warn(\n",
      "/home/jlortiz/anaconda3/envs/py310/lib/python3.10/site-packages/sklearn/neural_network/_multilayer_perceptron.py:702: ConvergenceWarning: Stochastic Optimizer: Maximum iterations (20) reached and the optimization hasn't converged yet.\n",
      "  warnings.warn(\n"
     ]
    },
    {
     "name": "stdout",
     "output_type": "stream",
     "text": [
      "[CV 2/2; 16/48] END activation=tanh, alpha=0.03, hidden_layer_sizes=(1000, 700), learning_rate=adaptive, solver=sgd;, score=0.963 total time=  52.8s\n",
      "[CV 2/2; 15/48] END activation=tanh, alpha=0.03, hidden_layer_sizes=(1000, 700), learning_rate=adaptive, solver=adam;, score=0.982 total time= 1.1min\n",
      "[CV 1/2; 18/48] START activation=tanh, alpha=0.03, hidden_layer_sizes=(1000, 500), learning_rate=adaptive, solver=sgd\n",
      "[CV 2/2; 18/48] START activation=tanh, alpha=0.03, hidden_layer_sizes=(1000, 500), learning_rate=adaptive, solver=sgd\n"
     ]
    },
    {
     "name": "stderr",
     "output_type": "stream",
     "text": [
      "/home/jlortiz/anaconda3/envs/py310/lib/python3.10/site-packages/sklearn/neural_network/_multilayer_perceptron.py:702: ConvergenceWarning: Stochastic Optimizer: Maximum iterations (20) reached and the optimization hasn't converged yet.\n",
      "  warnings.warn(\n"
     ]
    },
    {
     "name": "stdout",
     "output_type": "stream",
     "text": [
      "[CV 1/2; 17/48] END activation=tanh, alpha=0.03, hidden_layer_sizes=(1000, 500), learning_rate=adaptive, solver=adam;, score=0.984 total time=  56.5s\n",
      "[CV 1/2; 19/48] START activation=tanh, alpha=0.1, hidden_layer_sizes=(1000, 600), learning_rate=adaptive, solver=adam\n",
      "[CV 1/2; 19/48] END activation=tanh, alpha=0.1, hidden_layer_sizes=(1000, 600), learning_rate=adaptive, solver=adam;, score=0.973 total time=  38.1s\n",
      "[CV 2/2; 19/48] START activation=tanh, alpha=0.1, hidden_layer_sizes=(1000, 600), learning_rate=adaptive, solver=adam\n"
     ]
    },
    {
     "name": "stderr",
     "output_type": "stream",
     "text": [
      "/home/jlortiz/anaconda3/envs/py310/lib/python3.10/site-packages/sklearn/neural_network/_multilayer_perceptron.py:702: ConvergenceWarning: Stochastic Optimizer: Maximum iterations (20) reached and the optimization hasn't converged yet.\n",
      "  warnings.warn(\n"
     ]
    },
    {
     "name": "stdout",
     "output_type": "stream",
     "text": [
      "[CV 1/2; 18/48] END activation=tanh, alpha=0.03, hidden_layer_sizes=(1000, 500), learning_rate=adaptive, solver=sgd;, score=0.967 total time=  45.3s\n",
      "[CV 2/2; 17/48] END activation=tanh, alpha=0.03, hidden_layer_sizes=(1000, 500), learning_rate=adaptive, solver=adam;, score=0.983 total time=  55.3s\n"
     ]
    },
    {
     "name": "stderr",
     "output_type": "stream",
     "text": [
      "/home/jlortiz/anaconda3/envs/py310/lib/python3.10/site-packages/sklearn/neural_network/_multilayer_perceptron.py:702: ConvergenceWarning: Stochastic Optimizer: Maximum iterations (20) reached and the optimization hasn't converged yet.\n",
      "  warnings.warn(\n"
     ]
    },
    {
     "name": "stdout",
     "output_type": "stream",
     "text": [
      "[CV 1/2; 20/48] START activation=tanh, alpha=0.1, hidden_layer_sizes=(1000, 600), learning_rate=adaptive, solver=sgd\n",
      "[CV 2/2; 18/48] END activation=tanh, alpha=0.03, hidden_layer_sizes=(1000, 500), learning_rate=adaptive, solver=sgd;, score=0.964 total time=  46.2s\n",
      "[CV 2/2; 20/48] START activation=tanh, alpha=0.1, hidden_layer_sizes=(1000, 600), learning_rate=adaptive, solver=sgd\n",
      "[CV 1/2; 21/48] START activation=tanh, alpha=0.1, hidden_layer_sizes=(1000, 700), learning_rate=adaptive, solver=adam\n"
     ]
    },
    {
     "name": "stderr",
     "output_type": "stream",
     "text": [
      "/home/jlortiz/anaconda3/envs/py310/lib/python3.10/site-packages/sklearn/neural_network/_multilayer_perceptron.py:702: ConvergenceWarning: Stochastic Optimizer: Maximum iterations (20) reached and the optimization hasn't converged yet.\n",
      "  warnings.warn(\n",
      "/home/jlortiz/anaconda3/envs/py310/lib/python3.10/site-packages/sklearn/neural_network/_multilayer_perceptron.py:702: ConvergenceWarning: Stochastic Optimizer: Maximum iterations (20) reached and the optimization hasn't converged yet.\n",
      "  warnings.warn(\n"
     ]
    },
    {
     "name": "stdout",
     "output_type": "stream",
     "text": [
      "[CV 1/2; 21/48] END activation=tanh, alpha=0.1, hidden_layer_sizes=(1000, 700), learning_rate=adaptive, solver=adam;, score=0.985 total time=  47.9s\n",
      "[CV 2/2; 20/48] END activation=tanh, alpha=0.1, hidden_layer_sizes=(1000, 600), learning_rate=adaptive, solver=sgd;, score=0.955 total time=  49.9s\n",
      "[CV 1/2; 20/48] END activation=tanh, alpha=0.1, hidden_layer_sizes=(1000, 600), learning_rate=adaptive, solver=sgd;, score=0.961 total time=  50.6s\n",
      "[CV 2/2; 21/48] START activation=tanh, alpha=0.1, hidden_layer_sizes=(1000, 700), learning_rate=adaptive, solver=adam\n",
      "[CV 2/2; 19/48] END activation=tanh, alpha=0.1, hidden_layer_sizes=(1000, 600), learning_rate=adaptive, solver=adam;, score=0.982 total time=  53.7s\n",
      "[CV 1/2; 22/48] START activation=tanh, alpha=0.1, hidden_layer_sizes=(1000, 700), learning_rate=adaptive, solver=sgd\n",
      "[CV 2/2; 22/48] START activation=tanh, alpha=0.1, hidden_layer_sizes=(1000, 700), learning_rate=adaptive, solver=sgd\n",
      "[CV 1/2; 23/48] START activation=tanh, alpha=0.1, hidden_layer_sizes=(1000, 500), learning_rate=adaptive, solver=adam\n"
     ]
    },
    {
     "name": "stderr",
     "output_type": "stream",
     "text": [
      "/home/jlortiz/anaconda3/envs/py310/lib/python3.10/site-packages/sklearn/neural_network/_multilayer_perceptron.py:702: ConvergenceWarning: Stochastic Optimizer: Maximum iterations (20) reached and the optimization hasn't converged yet.\n",
      "  warnings.warn(\n"
     ]
    },
    {
     "name": "stdout",
     "output_type": "stream",
     "text": [
      "[CV 1/2; 22/48] END activation=tanh, alpha=0.1, hidden_layer_sizes=(1000, 700), learning_rate=adaptive, solver=sgd;, score=0.963 total time=  52.5s\n",
      "[CV 2/2; 23/48] START activation=tanh, alpha=0.1, hidden_layer_sizes=(1000, 500), learning_rate=adaptive, solver=adam\n"
     ]
    },
    {
     "name": "stderr",
     "output_type": "stream",
     "text": [
      "/home/jlortiz/anaconda3/envs/py310/lib/python3.10/site-packages/sklearn/neural_network/_multilayer_perceptron.py:702: ConvergenceWarning: Stochastic Optimizer: Maximum iterations (20) reached and the optimization hasn't converged yet.\n",
      "  warnings.warn(\n"
     ]
    },
    {
     "name": "stdout",
     "output_type": "stream",
     "text": [
      "[CV 2/2; 22/48] END activation=tanh, alpha=0.1, hidden_layer_sizes=(1000, 700), learning_rate=adaptive, solver=sgd;, score=0.965 total time=  54.8s\n",
      "[CV 1/2; 23/48] END activation=tanh, alpha=0.1, hidden_layer_sizes=(1000, 500), learning_rate=adaptive, solver=adam;, score=0.984 total time=  55.1s\n",
      "[CV 1/2; 24/48] START activation=tanh, alpha=0.1, hidden_layer_sizes=(1000, 500), learning_rate=adaptive, solver=sgd\n",
      "[CV 2/2; 24/48] START activation=tanh, alpha=0.1, hidden_layer_sizes=(1000, 500), learning_rate=adaptive, solver=sgd\n"
     ]
    },
    {
     "name": "stderr",
     "output_type": "stream",
     "text": [
      "/home/jlortiz/anaconda3/envs/py310/lib/python3.10/site-packages/sklearn/neural_network/_multilayer_perceptron.py:702: ConvergenceWarning: Stochastic Optimizer: Maximum iterations (20) reached and the optimization hasn't converged yet.\n",
      "  warnings.warn(\n"
     ]
    },
    {
     "name": "stdout",
     "output_type": "stream",
     "text": [
      "[CV 2/2; 21/48] END activation=tanh, alpha=0.1, hidden_layer_sizes=(1000, 700), learning_rate=adaptive, solver=adam;, score=0.981 total time= 1.1min\n",
      "[CV 1/2; 25/48] START activation=relu, alpha=0.05, hidden_layer_sizes=(1000, 600), learning_rate=adaptive, solver=adam\n"
     ]
    },
    {
     "name": "stderr",
     "output_type": "stream",
     "text": [
      "/home/jlortiz/anaconda3/envs/py310/lib/python3.10/site-packages/sklearn/neural_network/_multilayer_perceptron.py:702: ConvergenceWarning: Stochastic Optimizer: Maximum iterations (20) reached and the optimization hasn't converged yet.\n",
      "  warnings.warn(\n"
     ]
    },
    {
     "name": "stdout",
     "output_type": "stream",
     "text": [
      "[CV 1/2; 24/48] END activation=tanh, alpha=0.1, hidden_layer_sizes=(1000, 500), learning_rate=adaptive, solver=sgd;, score=0.967 total time=  46.9s\n",
      "[CV 2/2; 25/48] START activation=relu, alpha=0.05, hidden_layer_sizes=(1000, 600), learning_rate=adaptive, solver=adam\n"
     ]
    },
    {
     "name": "stderr",
     "output_type": "stream",
     "text": [
      "/home/jlortiz/anaconda3/envs/py310/lib/python3.10/site-packages/sklearn/neural_network/_multilayer_perceptron.py:702: ConvergenceWarning: Stochastic Optimizer: Maximum iterations (20) reached and the optimization hasn't converged yet.\n",
      "  warnings.warn(\n"
     ]
    },
    {
     "name": "stdout",
     "output_type": "stream",
     "text": [
      "[CV 2/2; 23/48] END activation=tanh, alpha=0.1, hidden_layer_sizes=(1000, 500), learning_rate=adaptive, solver=adam;, score=0.983 total time=  51.6s\n",
      "[CV 2/2; 24/48] END activation=tanh, alpha=0.1, hidden_layer_sizes=(1000, 500), learning_rate=adaptive, solver=sgd;, score=0.964 total time=  48.4s\n",
      "[CV 1/2; 26/48] START activation=relu, alpha=0.05, hidden_layer_sizes=(1000, 600), learning_rate=adaptive, solver=sgd\n",
      "[CV 2/2; 26/48] START activation=relu, alpha=0.05, hidden_layer_sizes=(1000, 600), learning_rate=adaptive, solver=sgd\n",
      "[CV 1/2; 25/48] END activation=relu, alpha=0.05, hidden_layer_sizes=(1000, 600), learning_rate=adaptive, solver=adam;, score=0.978 total time=  48.1s\n",
      "[CV 1/2; 27/48] START activation=relu, alpha=0.05, hidden_layer_sizes=(1000, 700), learning_rate=adaptive, solver=adam\n",
      "[CV 2/2; 25/48] END activation=relu, alpha=0.05, hidden_layer_sizes=(1000, 600), learning_rate=adaptive, solver=adam;, score=0.978 total time=  47.8s\n"
     ]
    },
    {
     "name": "stderr",
     "output_type": "stream",
     "text": [
      "/home/jlortiz/anaconda3/envs/py310/lib/python3.10/site-packages/sklearn/neural_network/_multilayer_perceptron.py:702: ConvergenceWarning: Stochastic Optimizer: Maximum iterations (20) reached and the optimization hasn't converged yet.\n",
      "  warnings.warn(\n",
      "/home/jlortiz/anaconda3/envs/py310/lib/python3.10/site-packages/sklearn/neural_network/_multilayer_perceptron.py:702: ConvergenceWarning: Stochastic Optimizer: Maximum iterations (20) reached and the optimization hasn't converged yet.\n",
      "  warnings.warn(\n"
     ]
    },
    {
     "name": "stdout",
     "output_type": "stream",
     "text": [
      "[CV 2/2; 27/48] START activation=relu, alpha=0.05, hidden_layer_sizes=(1000, 700), learning_rate=adaptive, solver=adam\n",
      "[CV 1/2; 26/48] END activation=relu, alpha=0.05, hidden_layer_sizes=(1000, 600), learning_rate=adaptive, solver=sgd;, score=0.851 total time=  47.5s\n",
      "[CV 2/2; 26/48] END activation=relu, alpha=0.05, hidden_layer_sizes=(1000, 600), learning_rate=adaptive, solver=sgd;, score=0.837 total time=  47.0s\n",
      "[CV 1/2; 28/48] START activation=relu, alpha=0.05, hidden_layer_sizes=(1000, 700), learning_rate=adaptive, solver=sgd\n",
      "[CV 2/2; 28/48] START activation=relu, alpha=0.05, hidden_layer_sizes=(1000, 700), learning_rate=adaptive, solver=sgd\n",
      "[CV 1/2; 27/48] END activation=relu, alpha=0.05, hidden_layer_sizes=(1000, 700), learning_rate=adaptive, solver=adam;, score=0.974 total time=  46.3s\n",
      "[CV 1/2; 29/48] START activation=relu, alpha=0.05, hidden_layer_sizes=(1000, 500), learning_rate=adaptive, solver=adam\n"
     ]
    },
    {
     "name": "stderr",
     "output_type": "stream",
     "text": [
      "/home/jlortiz/anaconda3/envs/py310/lib/python3.10/site-packages/sklearn/neural_network/_multilayer_perceptron.py:702: ConvergenceWarning: Stochastic Optimizer: Maximum iterations (20) reached and the optimization hasn't converged yet.\n",
      "  warnings.warn(\n"
     ]
    },
    {
     "name": "stdout",
     "output_type": "stream",
     "text": [
      "[CV 2/2; 28/48] END activation=relu, alpha=0.05, hidden_layer_sizes=(1000, 700), learning_rate=adaptive, solver=sgd;, score=0.871 total time=  46.1s\n"
     ]
    },
    {
     "name": "stderr",
     "output_type": "stream",
     "text": [
      "/home/jlortiz/anaconda3/envs/py310/lib/python3.10/site-packages/sklearn/neural_network/_multilayer_perceptron.py:702: ConvergenceWarning: Stochastic Optimizer: Maximum iterations (20) reached and the optimization hasn't converged yet.\n",
      "  warnings.warn(\n"
     ]
    },
    {
     "name": "stdout",
     "output_type": "stream",
     "text": [
      "[CV 2/2; 29/48] START activation=relu, alpha=0.05, hidden_layer_sizes=(1000, 500), learning_rate=adaptive, solver=adam\n",
      "[CV 1/2; 28/48] END activation=relu, alpha=0.05, hidden_layer_sizes=(1000, 700), learning_rate=adaptive, solver=sgd;, score=0.878 total time=  48.5s\n",
      "[CV 1/2; 30/48] START activation=relu, alpha=0.05, hidden_layer_sizes=(1000, 500), learning_rate=adaptive, solver=sgd\n"
     ]
    },
    {
     "name": "stderr",
     "output_type": "stream",
     "text": [
      "/home/jlortiz/anaconda3/envs/py310/lib/python3.10/site-packages/sklearn/neural_network/_multilayer_perceptron.py:702: ConvergenceWarning: Stochastic Optimizer: Maximum iterations (20) reached and the optimization hasn't converged yet.\n",
      "  warnings.warn(\n"
     ]
    },
    {
     "name": "stdout",
     "output_type": "stream",
     "text": [
      "[CV 2/2; 27/48] END activation=relu, alpha=0.05, hidden_layer_sizes=(1000, 700), learning_rate=adaptive, solver=adam;, score=0.982 total time= 1.0min\n",
      "[CV 2/2; 30/48] START activation=relu, alpha=0.05, hidden_layer_sizes=(1000, 500), learning_rate=adaptive, solver=sgd\n"
     ]
    },
    {
     "name": "stderr",
     "output_type": "stream",
     "text": [
      "/home/jlortiz/anaconda3/envs/py310/lib/python3.10/site-packages/sklearn/neural_network/_multilayer_perceptron.py:702: ConvergenceWarning: Stochastic Optimizer: Maximum iterations (20) reached and the optimization hasn't converged yet.\n",
      "  warnings.warn(\n"
     ]
    },
    {
     "name": "stdout",
     "output_type": "stream",
     "text": [
      "[CV 1/2; 29/48] END activation=relu, alpha=0.05, hidden_layer_sizes=(1000, 500), learning_rate=adaptive, solver=adam;, score=0.983 total time=  57.1s\n",
      "[CV 1/2; 31/48] START activation=relu, alpha=0.01, hidden_layer_sizes=(1000, 600), learning_rate=adaptive, solver=adam\n"
     ]
    },
    {
     "name": "stderr",
     "output_type": "stream",
     "text": [
      "/home/jlortiz/anaconda3/envs/py310/lib/python3.10/site-packages/sklearn/neural_network/_multilayer_perceptron.py:702: ConvergenceWarning: Stochastic Optimizer: Maximum iterations (20) reached and the optimization hasn't converged yet.\n",
      "  warnings.warn(\n"
     ]
    },
    {
     "name": "stdout",
     "output_type": "stream",
     "text": [
      "[CV 1/2; 30/48] END activation=relu, alpha=0.05, hidden_layer_sizes=(1000, 500), learning_rate=adaptive, solver=sgd;, score=0.879 total time=  45.1s\n",
      "[CV 2/2; 31/48] START activation=relu, alpha=0.01, hidden_layer_sizes=(1000, 600), learning_rate=adaptive, solver=adam\n",
      "[CV 2/2; 29/48] END activation=relu, alpha=0.05, hidden_layer_sizes=(1000, 500), learning_rate=adaptive, solver=adam;, score=0.981 total time=  54.6s\n",
      "[CV 1/2; 32/48] START activation=relu, alpha=0.01, hidden_layer_sizes=(1000, 600), learning_rate=adaptive, solver=sgd\n"
     ]
    },
    {
     "name": "stderr",
     "output_type": "stream",
     "text": [
      "/home/jlortiz/anaconda3/envs/py310/lib/python3.10/site-packages/sklearn/neural_network/_multilayer_perceptron.py:702: ConvergenceWarning: Stochastic Optimizer: Maximum iterations (20) reached and the optimization hasn't converged yet.\n",
      "  warnings.warn(\n"
     ]
    },
    {
     "name": "stdout",
     "output_type": "stream",
     "text": [
      "[CV 2/2; 30/48] END activation=relu, alpha=0.05, hidden_layer_sizes=(1000, 500), learning_rate=adaptive, solver=sgd;, score=0.886 total time=  44.6s\n",
      "[CV 2/2; 32/48] START activation=relu, alpha=0.01, hidden_layer_sizes=(1000, 600), learning_rate=adaptive, solver=sgd\n",
      "[CV 1/2; 31/48] END activation=relu, alpha=0.01, hidden_layer_sizes=(1000, 600), learning_rate=adaptive, solver=adam;, score=0.979 total time=  46.9s\n",
      "[CV 1/2; 33/48] START activation=relu, alpha=0.01, hidden_layer_sizes=(1000, 700), learning_rate=adaptive, solver=adam\n",
      "[CV 2/2; 31/48] END activation=relu, alpha=0.01, hidden_layer_sizes=(1000, 600), learning_rate=adaptive, solver=adam;, score=0.978 total time=  49.8s\n",
      "[CV 2/2; 33/48] START activation=relu, alpha=0.01, hidden_layer_sizes=(1000, 700), learning_rate=adaptive, solver=adam\n"
     ]
    },
    {
     "name": "stderr",
     "output_type": "stream",
     "text": [
      "/home/jlortiz/anaconda3/envs/py310/lib/python3.10/site-packages/sklearn/neural_network/_multilayer_perceptron.py:702: ConvergenceWarning: Stochastic Optimizer: Maximum iterations (20) reached and the optimization hasn't converged yet.\n",
      "  warnings.warn(\n"
     ]
    },
    {
     "name": "stdout",
     "output_type": "stream",
     "text": [
      "[CV 1/2; 32/48] END activation=relu, alpha=0.01, hidden_layer_sizes=(1000, 600), learning_rate=adaptive, solver=sgd;, score=0.851 total time=  45.4s\n",
      "[CV 1/2; 34/48] START activation=relu, alpha=0.01, hidden_layer_sizes=(1000, 700), learning_rate=adaptive, solver=sgd\n"
     ]
    },
    {
     "name": "stderr",
     "output_type": "stream",
     "text": [
      "/home/jlortiz/anaconda3/envs/py310/lib/python3.10/site-packages/sklearn/neural_network/_multilayer_perceptron.py:702: ConvergenceWarning: Stochastic Optimizer: Maximum iterations (20) reached and the optimization hasn't converged yet.\n",
      "  warnings.warn(\n"
     ]
    },
    {
     "name": "stdout",
     "output_type": "stream",
     "text": [
      "[CV 2/2; 32/48] END activation=relu, alpha=0.01, hidden_layer_sizes=(1000, 600), learning_rate=adaptive, solver=sgd;, score=0.837 total time=  47.4s\n",
      "[CV 2/2; 34/48] START activation=relu, alpha=0.01, hidden_layer_sizes=(1000, 700), learning_rate=adaptive, solver=sgd\n",
      "[CV 1/2; 33/48] END activation=relu, alpha=0.01, hidden_layer_sizes=(1000, 700), learning_rate=adaptive, solver=adam;, score=0.981 total time=  55.0s\n",
      "[CV 1/2; 35/48] START activation=relu, alpha=0.01, hidden_layer_sizes=(1000, 500), learning_rate=adaptive, solver=adam\n"
     ]
    },
    {
     "name": "stderr",
     "output_type": "stream",
     "text": [
      "/home/jlortiz/anaconda3/envs/py310/lib/python3.10/site-packages/sklearn/neural_network/_multilayer_perceptron.py:702: ConvergenceWarning: Stochastic Optimizer: Maximum iterations (20) reached and the optimization hasn't converged yet.\n",
      "  warnings.warn(\n"
     ]
    },
    {
     "name": "stdout",
     "output_type": "stream",
     "text": [
      "[CV 1/2; 34/48] END activation=relu, alpha=0.01, hidden_layer_sizes=(1000, 700), learning_rate=adaptive, solver=sgd;, score=0.878 total time=  47.4s\n",
      "[CV 2/2; 35/48] START activation=relu, alpha=0.01, hidden_layer_sizes=(1000, 500), learning_rate=adaptive, solver=adam\n",
      "[CV 2/2; 33/48] END activation=relu, alpha=0.01, hidden_layer_sizes=(1000, 700), learning_rate=adaptive, solver=adam;, score=0.978 total time=  52.3s\n",
      "[CV 1/2; 36/48] START activation=relu, alpha=0.01, hidden_layer_sizes=(1000, 500), learning_rate=adaptive, solver=sgd\n"
     ]
    },
    {
     "name": "stderr",
     "output_type": "stream",
     "text": [
      "/home/jlortiz/anaconda3/envs/py310/lib/python3.10/site-packages/sklearn/neural_network/_multilayer_perceptron.py:702: ConvergenceWarning: Stochastic Optimizer: Maximum iterations (20) reached and the optimization hasn't converged yet.\n",
      "  warnings.warn(\n"
     ]
    },
    {
     "name": "stdout",
     "output_type": "stream",
     "text": [
      "[CV 2/2; 34/48] END activation=relu, alpha=0.01, hidden_layer_sizes=(1000, 700), learning_rate=adaptive, solver=sgd;, score=0.871 total time=  46.9s\n",
      "[CV 2/2; 36/48] START activation=relu, alpha=0.01, hidden_layer_sizes=(1000, 500), learning_rate=adaptive, solver=sgd\n",
      "[CV 1/2; 35/48] END activation=relu, alpha=0.01, hidden_layer_sizes=(1000, 500), learning_rate=adaptive, solver=adam;, score=0.979 total time=  43.8s\n",
      "[CV 1/2; 37/48] START activation=relu, alpha=0.03, hidden_layer_sizes=(1000, 600), learning_rate=adaptive, solver=adam\n",
      "[CV 2/2; 35/48] END activation=relu, alpha=0.01, hidden_layer_sizes=(1000, 500), learning_rate=adaptive, solver=adam;, score=0.972 total time=  29.5s\n",
      "[CV 2/2; 37/48] START activation=relu, alpha=0.03, hidden_layer_sizes=(1000, 600), learning_rate=adaptive, solver=adam\n"
     ]
    },
    {
     "name": "stderr",
     "output_type": "stream",
     "text": [
      "/home/jlortiz/anaconda3/envs/py310/lib/python3.10/site-packages/sklearn/neural_network/_multilayer_perceptron.py:702: ConvergenceWarning: Stochastic Optimizer: Maximum iterations (20) reached and the optimization hasn't converged yet.\n",
      "  warnings.warn(\n"
     ]
    },
    {
     "name": "stdout",
     "output_type": "stream",
     "text": [
      "[CV 1/2; 36/48] END activation=relu, alpha=0.01, hidden_layer_sizes=(1000, 500), learning_rate=adaptive, solver=sgd;, score=0.879 total time=  41.1s\n",
      "[CV 1/2; 38/48] START activation=relu, alpha=0.03, hidden_layer_sizes=(1000, 600), learning_rate=adaptive, solver=sgd\n"
     ]
    },
    {
     "name": "stderr",
     "output_type": "stream",
     "text": [
      "/home/jlortiz/anaconda3/envs/py310/lib/python3.10/site-packages/sklearn/neural_network/_multilayer_perceptron.py:702: ConvergenceWarning: Stochastic Optimizer: Maximum iterations (20) reached and the optimization hasn't converged yet.\n",
      "  warnings.warn(\n"
     ]
    },
    {
     "name": "stdout",
     "output_type": "stream",
     "text": [
      "[CV 2/2; 36/48] END activation=relu, alpha=0.01, hidden_layer_sizes=(1000, 500), learning_rate=adaptive, solver=sgd;, score=0.886 total time=  43.2s\n",
      "[CV 2/2; 38/48] START activation=relu, alpha=0.03, hidden_layer_sizes=(1000, 600), learning_rate=adaptive, solver=sgd\n",
      "[CV 1/2; 37/48] END activation=relu, alpha=0.03, hidden_layer_sizes=(1000, 600), learning_rate=adaptive, solver=adam;, score=0.975 total time=  37.6s\n",
      "[CV 1/2; 39/48] START activation=relu, alpha=0.03, hidden_layer_sizes=(1000, 700), learning_rate=adaptive, solver=adam\n"
     ]
    },
    {
     "name": "stderr",
     "output_type": "stream",
     "text": [
      "/home/jlortiz/anaconda3/envs/py310/lib/python3.10/site-packages/sklearn/neural_network/_multilayer_perceptron.py:702: ConvergenceWarning: Stochastic Optimizer: Maximum iterations (20) reached and the optimization hasn't converged yet.\n",
      "  warnings.warn(\n"
     ]
    },
    {
     "name": "stdout",
     "output_type": "stream",
     "text": [
      "[CV 2/2; 37/48] END activation=relu, alpha=0.03, hidden_layer_sizes=(1000, 600), learning_rate=adaptive, solver=adam;, score=0.981 total time=  55.0s\n",
      "[CV 2/2; 39/48] START activation=relu, alpha=0.03, hidden_layer_sizes=(1000, 700), learning_rate=adaptive, solver=adam\n"
     ]
    },
    {
     "name": "stderr",
     "output_type": "stream",
     "text": [
      "/home/jlortiz/anaconda3/envs/py310/lib/python3.10/site-packages/sklearn/neural_network/_multilayer_perceptron.py:702: ConvergenceWarning: Stochastic Optimizer: Maximum iterations (20) reached and the optimization hasn't converged yet.\n",
      "  warnings.warn(\n"
     ]
    },
    {
     "name": "stdout",
     "output_type": "stream",
     "text": [
      "[CV 1/2; 38/48] END activation=relu, alpha=0.03, hidden_layer_sizes=(1000, 600), learning_rate=adaptive, solver=sgd;, score=0.851 total time=  45.1s\n",
      "[CV 1/2; 40/48] START activation=relu, alpha=0.03, hidden_layer_sizes=(1000, 700), learning_rate=adaptive, solver=sgd\n"
     ]
    },
    {
     "name": "stderr",
     "output_type": "stream",
     "text": [
      "/home/jlortiz/anaconda3/envs/py310/lib/python3.10/site-packages/sklearn/neural_network/_multilayer_perceptron.py:702: ConvergenceWarning: Stochastic Optimizer: Maximum iterations (20) reached and the optimization hasn't converged yet.\n",
      "  warnings.warn(\n"
     ]
    },
    {
     "name": "stdout",
     "output_type": "stream",
     "text": [
      "[CV 2/2; 38/48] END activation=relu, alpha=0.03, hidden_layer_sizes=(1000, 600), learning_rate=adaptive, solver=sgd;, score=0.837 total time=  43.5s\n",
      "[CV 2/2; 40/48] START activation=relu, alpha=0.03, hidden_layer_sizes=(1000, 700), learning_rate=adaptive, solver=sgd\n",
      "[CV 1/2; 39/48] END activation=relu, alpha=0.03, hidden_layer_sizes=(1000, 700), learning_rate=adaptive, solver=adam;, score=0.973 total time=  42.9s\n",
      "[CV 1/2; 41/48] START activation=relu, alpha=0.03, hidden_layer_sizes=(1000, 500), learning_rate=adaptive, solver=adam\n"
     ]
    },
    {
     "name": "stderr",
     "output_type": "stream",
     "text": [
      "/home/jlortiz/anaconda3/envs/py310/lib/python3.10/site-packages/sklearn/neural_network/_multilayer_perceptron.py:702: ConvergenceWarning: Stochastic Optimizer: Maximum iterations (20) reached and the optimization hasn't converged yet.\n",
      "  warnings.warn(\n"
     ]
    },
    {
     "name": "stdout",
     "output_type": "stream",
     "text": [
      "[CV 1/2; 40/48] END activation=relu, alpha=0.03, hidden_layer_sizes=(1000, 700), learning_rate=adaptive, solver=sgd;, score=0.878 total time=  47.0s\n",
      "[CV 2/2; 41/48] START activation=relu, alpha=0.03, hidden_layer_sizes=(1000, 500), learning_rate=adaptive, solver=adam\n"
     ]
    },
    {
     "name": "stderr",
     "output_type": "stream",
     "text": [
      "/home/jlortiz/anaconda3/envs/py310/lib/python3.10/site-packages/sklearn/neural_network/_multilayer_perceptron.py:702: ConvergenceWarning: Stochastic Optimizer: Maximum iterations (20) reached and the optimization hasn't converged yet.\n",
      "  warnings.warn(\n"
     ]
    },
    {
     "name": "stdout",
     "output_type": "stream",
     "text": [
      "[CV 2/2; 40/48] END activation=relu, alpha=0.03, hidden_layer_sizes=(1000, 700), learning_rate=adaptive, solver=sgd;, score=0.871 total time=  47.0s\n",
      "[CV 1/2; 42/48] START activation=relu, alpha=0.03, hidden_layer_sizes=(1000, 500), learning_rate=adaptive, solver=sgd\n"
     ]
    },
    {
     "name": "stderr",
     "output_type": "stream",
     "text": [
      "/home/jlortiz/anaconda3/envs/py310/lib/python3.10/site-packages/sklearn/neural_network/_multilayer_perceptron.py:702: ConvergenceWarning: Stochastic Optimizer: Maximum iterations (20) reached and the optimization hasn't converged yet.\n",
      "  warnings.warn(\n"
     ]
    },
    {
     "name": "stdout",
     "output_type": "stream",
     "text": [
      "[CV 2/2; 39/48] END activation=relu, alpha=0.03, hidden_layer_sizes=(1000, 700), learning_rate=adaptive, solver=adam;, score=0.981 total time=  56.1s\n",
      "[CV 2/2; 42/48] START activation=relu, alpha=0.03, hidden_layer_sizes=(1000, 500), learning_rate=adaptive, solver=sgd\n",
      "[CV 1/2; 41/48] END activation=relu, alpha=0.03, hidden_layer_sizes=(1000, 500), learning_rate=adaptive, solver=adam;, score=0.979 total time=  44.0s\n",
      "[CV 1/2; 43/48] START activation=relu, alpha=0.1, hidden_layer_sizes=(1000, 600), learning_rate=adaptive, solver=adam\n",
      "[CV 2/2; 41/48] END activation=relu, alpha=0.03, hidden_layer_sizes=(1000, 500), learning_rate=adaptive, solver=adam;, score=0.971 total time=  32.0s\n",
      "[CV 2/2; 43/48] START activation=relu, alpha=0.1, hidden_layer_sizes=(1000, 600), learning_rate=adaptive, solver=adam\n"
     ]
    },
    {
     "name": "stderr",
     "output_type": "stream",
     "text": [
      "/home/jlortiz/anaconda3/envs/py310/lib/python3.10/site-packages/sklearn/neural_network/_multilayer_perceptron.py:702: ConvergenceWarning: Stochastic Optimizer: Maximum iterations (20) reached and the optimization hasn't converged yet.\n",
      "  warnings.warn(\n"
     ]
    },
    {
     "name": "stdout",
     "output_type": "stream",
     "text": [
      "[CV 1/2; 42/48] END activation=relu, alpha=0.03, hidden_layer_sizes=(1000, 500), learning_rate=adaptive, solver=sgd;, score=0.879 total time=  42.1s\n",
      "[CV 1/2; 44/48] START activation=relu, alpha=0.1, hidden_layer_sizes=(1000, 600), learning_rate=adaptive, solver=sgd\n"
     ]
    },
    {
     "name": "stderr",
     "output_type": "stream",
     "text": [
      "/home/jlortiz/anaconda3/envs/py310/lib/python3.10/site-packages/sklearn/neural_network/_multilayer_perceptron.py:702: ConvergenceWarning: Stochastic Optimizer: Maximum iterations (20) reached and the optimization hasn't converged yet.\n",
      "  warnings.warn(\n"
     ]
    },
    {
     "name": "stdout",
     "output_type": "stream",
     "text": [
      "[CV 2/2; 42/48] END activation=relu, alpha=0.03, hidden_layer_sizes=(1000, 500), learning_rate=adaptive, solver=sgd;, score=0.886 total time=  41.9s\n",
      "[CV 1/2; 43/48] END activation=relu, alpha=0.1, hidden_layer_sizes=(1000, 600), learning_rate=adaptive, solver=adam;, score=0.980 total time=  40.9s\n",
      "[CV 2/2; 44/48] START activation=relu, alpha=0.1, hidden_layer_sizes=(1000, 600), learning_rate=adaptive, solver=sgd\n",
      "[CV 1/2; 45/48] START activation=relu, alpha=0.1, hidden_layer_sizes=(1000, 700), learning_rate=adaptive, solver=adam\n"
     ]
    },
    {
     "name": "stderr",
     "output_type": "stream",
     "text": [
      "/home/jlortiz/anaconda3/envs/py310/lib/python3.10/site-packages/sklearn/neural_network/_multilayer_perceptron.py:702: ConvergenceWarning: Stochastic Optimizer: Maximum iterations (20) reached and the optimization hasn't converged yet.\n",
      "  warnings.warn(\n"
     ]
    },
    {
     "name": "stdout",
     "output_type": "stream",
     "text": [
      "[CV 2/2; 43/48] END activation=relu, alpha=0.1, hidden_layer_sizes=(1000, 600), learning_rate=adaptive, solver=adam;, score=0.981 total time=  54.9s\n",
      "[CV 2/2; 45/48] START activation=relu, alpha=0.1, hidden_layer_sizes=(1000, 700), learning_rate=adaptive, solver=adam\n"
     ]
    },
    {
     "name": "stderr",
     "output_type": "stream",
     "text": [
      "/home/jlortiz/anaconda3/envs/py310/lib/python3.10/site-packages/sklearn/neural_network/_multilayer_perceptron.py:702: ConvergenceWarning: Stochastic Optimizer: Maximum iterations (20) reached and the optimization hasn't converged yet.\n",
      "  warnings.warn(\n"
     ]
    },
    {
     "name": "stdout",
     "output_type": "stream",
     "text": [
      "[CV 1/2; 44/48] END activation=relu, alpha=0.1, hidden_layer_sizes=(1000, 600), learning_rate=adaptive, solver=sgd;, score=0.851 total time=  44.6s\n"
     ]
    },
    {
     "name": "stderr",
     "output_type": "stream",
     "text": [
      "/home/jlortiz/anaconda3/envs/py310/lib/python3.10/site-packages/sklearn/neural_network/_multilayer_perceptron.py:702: ConvergenceWarning: Stochastic Optimizer: Maximum iterations (20) reached and the optimization hasn't converged yet.\n",
      "  warnings.warn(\n"
     ]
    },
    {
     "name": "stdout",
     "output_type": "stream",
     "text": [
      "[CV 1/2; 46/48] START activation=relu, alpha=0.1, hidden_layer_sizes=(1000, 700), learning_rate=adaptive, solver=sgd\n",
      "[CV 2/2; 44/48] END activation=relu, alpha=0.1, hidden_layer_sizes=(1000, 600), learning_rate=adaptive, solver=sgd;, score=0.836 total time=  43.7s\n",
      "[CV 2/2; 46/48] START activation=relu, alpha=0.1, hidden_layer_sizes=(1000, 700), learning_rate=adaptive, solver=sgd\n"
     ]
    },
    {
     "name": "stderr",
     "output_type": "stream",
     "text": [
      "/home/jlortiz/anaconda3/envs/py310/lib/python3.10/site-packages/sklearn/neural_network/_multilayer_perceptron.py:702: ConvergenceWarning: Stochastic Optimizer: Maximum iterations (20) reached and the optimization hasn't converged yet.\n",
      "  warnings.warn(\n"
     ]
    },
    {
     "name": "stdout",
     "output_type": "stream",
     "text": [
      "[CV 1/2; 45/48] END activation=relu, alpha=0.1, hidden_layer_sizes=(1000, 700), learning_rate=adaptive, solver=adam;, score=0.984 total time=  58.2s\n",
      "[CV 1/2; 47/48] START activation=relu, alpha=0.1, hidden_layer_sizes=(1000, 500), learning_rate=adaptive, solver=adam\n"
     ]
    },
    {
     "name": "stderr",
     "output_type": "stream",
     "text": [
      "/home/jlortiz/anaconda3/envs/py310/lib/python3.10/site-packages/sklearn/neural_network/_multilayer_perceptron.py:702: ConvergenceWarning: Stochastic Optimizer: Maximum iterations (20) reached and the optimization hasn't converged yet.\n",
      "  warnings.warn(\n"
     ]
    },
    {
     "name": "stdout",
     "output_type": "stream",
     "text": [
      "[CV 1/2; 46/48] END activation=relu, alpha=0.1, hidden_layer_sizes=(1000, 700), learning_rate=adaptive, solver=sgd;, score=0.878 total time=  45.7s\n"
     ]
    },
    {
     "name": "stderr",
     "output_type": "stream",
     "text": [
      "/home/jlortiz/anaconda3/envs/py310/lib/python3.10/site-packages/sklearn/neural_network/_multilayer_perceptron.py:702: ConvergenceWarning: Stochastic Optimizer: Maximum iterations (20) reached and the optimization hasn't converged yet.\n",
      "  warnings.warn(\n"
     ]
    },
    {
     "name": "stdout",
     "output_type": "stream",
     "text": [
      "[CV 2/2; 47/48] START activation=relu, alpha=0.1, hidden_layer_sizes=(1000, 500), learning_rate=adaptive, solver=adam\n",
      "[CV 2/2; 46/48] END activation=relu, alpha=0.1, hidden_layer_sizes=(1000, 700), learning_rate=adaptive, solver=sgd;, score=0.871 total time=  45.5s\n",
      "[CV 1/2; 48/48] START activation=relu, alpha=0.1, hidden_layer_sizes=(1000, 500), learning_rate=adaptive, solver=sgd\n"
     ]
    },
    {
     "name": "stderr",
     "output_type": "stream",
     "text": [
      "/home/jlortiz/anaconda3/envs/py310/lib/python3.10/site-packages/sklearn/neural_network/_multilayer_perceptron.py:702: ConvergenceWarning: Stochastic Optimizer: Maximum iterations (20) reached and the optimization hasn't converged yet.\n",
      "  warnings.warn(\n"
     ]
    },
    {
     "name": "stdout",
     "output_type": "stream",
     "text": [
      "[CV 2/2; 45/48] END activation=relu, alpha=0.1, hidden_layer_sizes=(1000, 700), learning_rate=adaptive, solver=adam;, score=0.982 total time=  57.4s\n",
      "[CV 2/2; 48/48] START activation=relu, alpha=0.1, hidden_layer_sizes=(1000, 500), learning_rate=adaptive, solver=sgd\n"
     ]
    },
    {
     "name": "stderr",
     "output_type": "stream",
     "text": [
      "/home/jlortiz/anaconda3/envs/py310/lib/python3.10/site-packages/sklearn/neural_network/_multilayer_perceptron.py:702: ConvergenceWarning: Stochastic Optimizer: Maximum iterations (20) reached and the optimization hasn't converged yet.\n",
      "  warnings.warn(\n"
     ]
    },
    {
     "name": "stdout",
     "output_type": "stream",
     "text": [
      "[CV 1/2; 47/48] END activation=relu, alpha=0.1, hidden_layer_sizes=(1000, 500), learning_rate=adaptive, solver=adam;, score=0.983 total time=  50.8s\n",
      "[CV 2/2; 47/48] END activation=relu, alpha=0.1, hidden_layer_sizes=(1000, 500), learning_rate=adaptive, solver=adam;, score=0.972 total time=  28.2s\n"
     ]
    },
    {
     "name": "stderr",
     "output_type": "stream",
     "text": [
      "/home/jlortiz/anaconda3/envs/py310/lib/python3.10/site-packages/sklearn/neural_network/_multilayer_perceptron.py:702: ConvergenceWarning: Stochastic Optimizer: Maximum iterations (20) reached and the optimization hasn't converged yet.\n",
      "  warnings.warn(\n"
     ]
    },
    {
     "name": "stdout",
     "output_type": "stream",
     "text": [
      "[CV 1/2; 48/48] END activation=relu, alpha=0.1, hidden_layer_sizes=(1000, 500), learning_rate=adaptive, solver=sgd;, score=0.878 total time=  35.8s\n"
     ]
    },
    {
     "name": "stderr",
     "output_type": "stream",
     "text": [
      "/home/jlortiz/anaconda3/envs/py310/lib/python3.10/site-packages/sklearn/neural_network/_multilayer_perceptron.py:702: ConvergenceWarning: Stochastic Optimizer: Maximum iterations (20) reached and the optimization hasn't converged yet.\n",
      "  warnings.warn(\n"
     ]
    },
    {
     "name": "stdout",
     "output_type": "stream",
     "text": [
      "[CV 2/2; 48/48] END activation=relu, alpha=0.1, hidden_layer_sizes=(1000, 500), learning_rate=adaptive, solver=sgd;, score=0.886 total time=  31.1s\n",
      "{'activation': 'tanh', 'alpha': 0.03, 'hidden_layer_sizes': (1000, 500), 'learning_rate': 'adaptive', 'solver': 'adam'}\n"
     ]
    }
   ],
   "source": [
    "# Grid search to find the best parameters for the model\n",
    "from sklearn.model_selection import GridSearchCV\n",
    "\n",
    "params = {\n",
    "    \"hidden_layer_sizes\": [(1000, 600), (1000, 700),(1000, 500)],\n",
    "    \"activation\": [\"tanh\", \"relu\"],\n",
    "    \"solver\": [\"adam\", \"sgd\"],\n",
    "    \"alpha\": [0.05, 0.01, 0.03, 0.1],\n",
    "    \"learning_rate\": [\"adaptive\"],\n",
    "    \n",
    "}\n",
    "\n",
    "mlp = MLPClassifier(max_iter=20, random_state=42, verbose=False, early_stopping=True, validation_fraction=0.1)\n",
    "\n",
    "# Custom scorer    \n",
    "\n",
    "clf = GridSearchCV(mlp, params, n_jobs=4, verbose=10, cv=2, scoring=\"accuracy\")\n",
    "clf.fit(X_train, y_train)\n",
    "\n",
    "print(clf.best_params_)"
   ]
  },
  {
   "cell_type": "code",
   "execution_count": 36,
   "metadata": {},
   "outputs": [
    {
     "name": "stdout",
     "output_type": "stream",
     "text": [
      "{'activation': 'tanh', 'alpha': 0.05, 'hidden_layer_sizes': (1000, 500), 'learning_rate': 'adaptive', 'solver': 'adam'}\n",
      "Accuracy:  0.86\n"
     ]
    }
   ],
   "source": [
    "print(clf.best_params_)\n",
    "mlp = MLPClassifier(**clf.best_params_, max_iter=20, random_state=42, verbose=False, early_stopping=True, validation_fraction=0.1)\n",
    "mlp.fit(X_train, y_train)\n",
    "y_pred = mlp.predict(X_test)\n",
    "print(\"Accuracy: \", round(accuracy_score(y_test, y_pred), 2))\n",
    "\n",
    "#{'activation': 'tanh', 'alpha': 0.01, 'hidden_layer_sizes': (1000, 500), 'learning_rate': 'adaptive', 'solver': 'adam'}\n"
   ]
  }
 ],
 "metadata": {
  "kernelspec": {
   "display_name": "Python 3.10.4 ('py310')",
   "language": "python",
   "name": "python3"
  },
  "language_info": {
   "codemirror_mode": {
    "name": "ipython",
    "version": 3
   },
   "file_extension": ".py",
   "mimetype": "text/x-python",
   "name": "python",
   "nbconvert_exporter": "python",
   "pygments_lexer": "ipython3",
   "version": "3.10.4"
  },
  "orig_nbformat": 4,
  "vscode": {
   "interpreter": {
    "hash": "06a17ca31c7ab197e5e567cd8a7bcaec762c6e782ee9dbc439352425141fd3d5"
   }
  }
 },
 "nbformat": 4,
 "nbformat_minor": 2
}
